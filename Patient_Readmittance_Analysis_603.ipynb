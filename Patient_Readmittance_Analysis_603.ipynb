{
  "cells": [
    {
      "cell_type": "markdown",
      "metadata": {
        "id": "7F59Pf3M4er_"
      },
      "source": [
        "## Setting up PySpark in Google Colab"
      ]
    },
    {
      "cell_type": "code",
      "execution_count": null,
      "metadata": {
        "id": "DR0DEg6-tpv9"
      },
      "outputs": [],
      "source": [
        "!apt-get install openjdk-8-jdk-headless -qq > /dev/null"
      ]
    },
    {
      "cell_type": "code",
      "execution_count": null,
      "metadata": {
        "id": "mEFJ71rMtvAh"
      },
      "outputs": [],
      "source": [
        "!wget -q https://downloads.apache.org/spark/spark-3.1.3/spark-3.1.3-bin-hadoop2.7.tgz"
      ]
    },
    {
      "cell_type": "code",
      "execution_count": null,
      "metadata": {
        "id": "OQ462d1AtwmY"
      },
      "outputs": [],
      "source": [
        "!tar -xvf spark-3.1.3-bin-hadoop2.7.tgz"
      ]
    },
    {
      "cell_type": "markdown",
      "metadata": {
        "id": "V-mcREks4olC"
      },
      "source": [
        "### Installing Pyspark"
      ]
    },
    {
      "cell_type": "code",
      "execution_count": null,
      "metadata": {
        "id": "uCr4b1p9tyQO"
      },
      "outputs": [],
      "source": [
        "!pip install -q findspark"
      ]
    },
    {
      "cell_type": "markdown",
      "metadata": {
        "id": "eNcO95er4sjZ"
      },
      "source": [
        "### Loading environment"
      ]
    },
    {
      "cell_type": "code",
      "execution_count": null,
      "metadata": {
        "id": "u2tkiLEOtzjX"
      },
      "outputs": [],
      "source": [
        "import os\n",
        "os.environ[\"JAVA_HOME\"] = \"/usr/lib/jvm/java-8-openjdk-amd64\"\n",
        "os.environ[\"SPARK_HOME\"] = \"/content/spark-3.1.3-bin-hadoop2.7\""
      ]
    },
    {
      "cell_type": "code",
      "execution_count": null,
      "metadata": {
        "id": "iriUCGYNt2Pp"
      },
      "outputs": [],
      "source": [
        "import findspark\n",
        "\n",
        "findspark.init()\n",
        "from pyspark.sql import SparkSession\n",
        "spark = SparkSession.builder.master(\"local[*]\").getOrCreate()\n",
        "import pyspark.sql.functions as F"
      ]
    },
    {
      "cell_type": "code",
      "execution_count": null,
      "metadata": {
        "id": "14W44zadt4Ft"
      },
      "outputs": [],
      "source": [
        "import matplotlib.pyplot as plt\n",
        "import pandas as pd\n",
        "import numpy as np\n",
        "import seaborn as sns\n",
        "%matplotlib inline\n",
        "plt.style.use('ggplot')\n",
        "\n",
        "import warnings\n",
        "def ignore_warn(*args, **kwagrs):\n",
        "    pass\n",
        "warnings.warn = ignore_warn"
      ]
    },
    {
      "cell_type": "markdown",
      "metadata": {
        "id": "ZabaRO4U4wgK"
      },
      "source": [
        "### Mounting the Drive"
      ]
    },
    {
      "cell_type": "code",
      "execution_count": null,
      "metadata": {
        "colab": {
          "base_uri": "https://localhost:8080/"
        },
        "id": "450qck2mt7pq",
        "outputId": "49097df7-ca72-4cd7-f3ae-764baa3181d2"
      },
      "outputs": [
        {
          "name": "stdout",
          "output_type": "stream",
          "text": [
            "Mounted at /content/gdrive\n"
          ]
        }
      ],
      "source": [
        "from google.colab import drive\n",
        "drive.mount('/content/gdrive', force_remount=True)"
      ]
    },
    {
      "cell_type": "markdown",
      "metadata": {
        "id": "j5-CGlMz40Kg"
      },
      "source": [
        "### Reading DataSet"
      ]
    },
    {
      "cell_type": "code",
      "execution_count": null,
      "metadata": {
        "colab": {
          "base_uri": "https://localhost:8080/"
        },
        "id": "XZ0CYb4st9x4",
        "outputId": "a25f0d57-5f03-4fe9-86b2-1fa6ef434eeb"
      },
      "outputs": [
        {
          "name": "stdout",
          "output_type": "stream",
          "text": [
            "root\n",
            " |-- encounter_id: integer (nullable = true)\n",
            " |-- patient_nbr: integer (nullable = true)\n",
            " |-- race: string (nullable = true)\n",
            " |-- gender: string (nullable = true)\n",
            " |-- age: string (nullable = true)\n",
            " |-- weight: string (nullable = true)\n",
            " |-- admission_type_id: integer (nullable = true)\n",
            " |-- discharge_disposition_id: integer (nullable = true)\n",
            " |-- admission_source_id: integer (nullable = true)\n",
            " |-- time_in_hospital: integer (nullable = true)\n",
            " |-- payer_code: string (nullable = true)\n",
            " |-- medical_specialty: string (nullable = true)\n",
            " |-- num_lab_procedures: integer (nullable = true)\n",
            " |-- num_procedures: integer (nullable = true)\n",
            " |-- num_medications: integer (nullable = true)\n",
            " |-- number_outpatient: integer (nullable = true)\n",
            " |-- number_emergency: integer (nullable = true)\n",
            " |-- number_inpatient: integer (nullable = true)\n",
            " |-- diag_1: string (nullable = true)\n",
            " |-- diag_2: string (nullable = true)\n",
            " |-- diag_3: string (nullable = true)\n",
            " |-- number_diagnoses: integer (nullable = true)\n",
            " |-- max_glu_serum: string (nullable = true)\n",
            " |-- A1Cresult: string (nullable = true)\n",
            " |-- metformin: string (nullable = true)\n",
            " |-- repaglinide: string (nullable = true)\n",
            " |-- nateglinide: string (nullable = true)\n",
            " |-- chlorpropamide: string (nullable = true)\n",
            " |-- glimepiride: string (nullable = true)\n",
            " |-- acetohexamide: string (nullable = true)\n",
            " |-- glipizide: string (nullable = true)\n",
            " |-- glyburide: string (nullable = true)\n",
            " |-- tolbutamide: string (nullable = true)\n",
            " |-- pioglitazone: string (nullable = true)\n",
            " |-- rosiglitazone: string (nullable = true)\n",
            " |-- acarbose: string (nullable = true)\n",
            " |-- miglitol: string (nullable = true)\n",
            " |-- troglitazone: string (nullable = true)\n",
            " |-- tolazamide: string (nullable = true)\n",
            " |-- examide: string (nullable = true)\n",
            " |-- citoglipton: string (nullable = true)\n",
            " |-- insulin: string (nullable = true)\n",
            " |-- glyburide-metformin: string (nullable = true)\n",
            " |-- glipizide-metformin: string (nullable = true)\n",
            " |-- glimepiride-pioglitazone: string (nullable = true)\n",
            " |-- metformin-rosiglitazone: string (nullable = true)\n",
            " |-- metformin-pioglitazone: string (nullable = true)\n",
            " |-- change: string (nullable = true)\n",
            " |-- diabetesMed: string (nullable = true)\n",
            " |-- readmitted: string (nullable = true)\n",
            "\n"
          ]
        }
      ],
      "source": [
        "from pyspark.sql import SparkSession\n",
        "spark = SparkSession.builder.appName('diabetic').getOrCreate()\n",
        "path = 'gdrive/MyDrive/HealthCareBigData/diabetic_data.csv'\n",
        "df = spark.read.csv(path, header = True, inferSchema = True, nullValue=\"?\")\n",
        "df2 = df\n",
        "df.printSchema()"
      ]
    },
    {
      "cell_type": "markdown",
      "metadata": {
        "id": "fnQHQV1B463H"
      },
      "source": [
        "### Lets have a view on the Dataset\n"
      ]
    },
    {
      "cell_type": "code",
      "execution_count": null,
      "metadata": {
        "colab": {
          "base_uri": "https://localhost:8080/",
          "height": 1000
        },
        "id": "Ctz1WJsl3uT7",
        "outputId": "3ffee266-880e-4940-8ffc-39f192df3706"
      },
      "outputs": [
        {
          "data": {
            "text/html": [
              "\n",
              "  <div id=\"df-b8661efd-c835-43bb-bc05-fde37fda8bae\">\n",
              "    <div class=\"colab-df-container\">\n",
              "      <div>\n",
              "<style scoped>\n",
              "    .dataframe tbody tr th:only-of-type {\n",
              "        vertical-align: middle;\n",
              "    }\n",
              "\n",
              "    .dataframe tbody tr th {\n",
              "        vertical-align: top;\n",
              "    }\n",
              "\n",
              "    .dataframe thead th {\n",
              "        text-align: right;\n",
              "    }\n",
              "</style>\n",
              "<table border=\"1\" class=\"dataframe\">\n",
              "  <thead>\n",
              "    <tr style=\"text-align: right;\">\n",
              "      <th></th>\n",
              "      <th>0</th>\n",
              "      <th>1</th>\n",
              "      <th>2</th>\n",
              "      <th>3</th>\n",
              "      <th>4</th>\n",
              "    </tr>\n",
              "  </thead>\n",
              "  <tbody>\n",
              "    <tr>\n",
              "      <th>encounter_id</th>\n",
              "      <td>2278392</td>\n",
              "      <td>149190</td>\n",
              "      <td>64410</td>\n",
              "      <td>500364</td>\n",
              "      <td>16680</td>\n",
              "    </tr>\n",
              "    <tr>\n",
              "      <th>patient_nbr</th>\n",
              "      <td>8222157</td>\n",
              "      <td>55629189</td>\n",
              "      <td>86047875</td>\n",
              "      <td>82442376</td>\n",
              "      <td>42519267</td>\n",
              "    </tr>\n",
              "    <tr>\n",
              "      <th>race</th>\n",
              "      <td>Caucasian</td>\n",
              "      <td>Caucasian</td>\n",
              "      <td>AfricanAmerican</td>\n",
              "      <td>Caucasian</td>\n",
              "      <td>Caucasian</td>\n",
              "    </tr>\n",
              "    <tr>\n",
              "      <th>gender</th>\n",
              "      <td>Female</td>\n",
              "      <td>Female</td>\n",
              "      <td>Female</td>\n",
              "      <td>Male</td>\n",
              "      <td>Male</td>\n",
              "    </tr>\n",
              "    <tr>\n",
              "      <th>age</th>\n",
              "      <td>[0-10)</td>\n",
              "      <td>[10-20)</td>\n",
              "      <td>[20-30)</td>\n",
              "      <td>[30-40)</td>\n",
              "      <td>[40-50)</td>\n",
              "    </tr>\n",
              "    <tr>\n",
              "      <th>weight</th>\n",
              "      <td>None</td>\n",
              "      <td>None</td>\n",
              "      <td>None</td>\n",
              "      <td>None</td>\n",
              "      <td>None</td>\n",
              "    </tr>\n",
              "    <tr>\n",
              "      <th>admission_type_id</th>\n",
              "      <td>6</td>\n",
              "      <td>1</td>\n",
              "      <td>1</td>\n",
              "      <td>1</td>\n",
              "      <td>1</td>\n",
              "    </tr>\n",
              "    <tr>\n",
              "      <th>discharge_disposition_id</th>\n",
              "      <td>25</td>\n",
              "      <td>1</td>\n",
              "      <td>1</td>\n",
              "      <td>1</td>\n",
              "      <td>1</td>\n",
              "    </tr>\n",
              "    <tr>\n",
              "      <th>admission_source_id</th>\n",
              "      <td>1</td>\n",
              "      <td>7</td>\n",
              "      <td>7</td>\n",
              "      <td>7</td>\n",
              "      <td>7</td>\n",
              "    </tr>\n",
              "    <tr>\n",
              "      <th>time_in_hospital</th>\n",
              "      <td>1</td>\n",
              "      <td>3</td>\n",
              "      <td>2</td>\n",
              "      <td>2</td>\n",
              "      <td>1</td>\n",
              "    </tr>\n",
              "    <tr>\n",
              "      <th>payer_code</th>\n",
              "      <td>None</td>\n",
              "      <td>None</td>\n",
              "      <td>None</td>\n",
              "      <td>None</td>\n",
              "      <td>None</td>\n",
              "    </tr>\n",
              "    <tr>\n",
              "      <th>medical_specialty</th>\n",
              "      <td>Pediatrics-Endocrinology</td>\n",
              "      <td>None</td>\n",
              "      <td>None</td>\n",
              "      <td>None</td>\n",
              "      <td>None</td>\n",
              "    </tr>\n",
              "    <tr>\n",
              "      <th>num_lab_procedures</th>\n",
              "      <td>41</td>\n",
              "      <td>59</td>\n",
              "      <td>11</td>\n",
              "      <td>44</td>\n",
              "      <td>51</td>\n",
              "    </tr>\n",
              "    <tr>\n",
              "      <th>num_procedures</th>\n",
              "      <td>0</td>\n",
              "      <td>0</td>\n",
              "      <td>5</td>\n",
              "      <td>1</td>\n",
              "      <td>0</td>\n",
              "    </tr>\n",
              "    <tr>\n",
              "      <th>num_medications</th>\n",
              "      <td>1</td>\n",
              "      <td>18</td>\n",
              "      <td>13</td>\n",
              "      <td>16</td>\n",
              "      <td>8</td>\n",
              "    </tr>\n",
              "    <tr>\n",
              "      <th>number_outpatient</th>\n",
              "      <td>0</td>\n",
              "      <td>0</td>\n",
              "      <td>2</td>\n",
              "      <td>0</td>\n",
              "      <td>0</td>\n",
              "    </tr>\n",
              "    <tr>\n",
              "      <th>number_emergency</th>\n",
              "      <td>0</td>\n",
              "      <td>0</td>\n",
              "      <td>0</td>\n",
              "      <td>0</td>\n",
              "      <td>0</td>\n",
              "    </tr>\n",
              "    <tr>\n",
              "      <th>number_inpatient</th>\n",
              "      <td>0</td>\n",
              "      <td>0</td>\n",
              "      <td>1</td>\n",
              "      <td>0</td>\n",
              "      <td>0</td>\n",
              "    </tr>\n",
              "    <tr>\n",
              "      <th>diag_1</th>\n",
              "      <td>250.83</td>\n",
              "      <td>276</td>\n",
              "      <td>648</td>\n",
              "      <td>8</td>\n",
              "      <td>197</td>\n",
              "    </tr>\n",
              "    <tr>\n",
              "      <th>diag_2</th>\n",
              "      <td>None</td>\n",
              "      <td>250.01</td>\n",
              "      <td>250</td>\n",
              "      <td>250.43</td>\n",
              "      <td>157</td>\n",
              "    </tr>\n",
              "    <tr>\n",
              "      <th>diag_3</th>\n",
              "      <td>None</td>\n",
              "      <td>255</td>\n",
              "      <td>V27</td>\n",
              "      <td>403</td>\n",
              "      <td>250</td>\n",
              "    </tr>\n",
              "    <tr>\n",
              "      <th>number_diagnoses</th>\n",
              "      <td>1</td>\n",
              "      <td>9</td>\n",
              "      <td>6</td>\n",
              "      <td>7</td>\n",
              "      <td>5</td>\n",
              "    </tr>\n",
              "    <tr>\n",
              "      <th>max_glu_serum</th>\n",
              "      <td>None</td>\n",
              "      <td>None</td>\n",
              "      <td>None</td>\n",
              "      <td>None</td>\n",
              "      <td>None</td>\n",
              "    </tr>\n",
              "    <tr>\n",
              "      <th>A1Cresult</th>\n",
              "      <td>None</td>\n",
              "      <td>None</td>\n",
              "      <td>None</td>\n",
              "      <td>None</td>\n",
              "      <td>None</td>\n",
              "    </tr>\n",
              "    <tr>\n",
              "      <th>metformin</th>\n",
              "      <td>No</td>\n",
              "      <td>No</td>\n",
              "      <td>No</td>\n",
              "      <td>No</td>\n",
              "      <td>No</td>\n",
              "    </tr>\n",
              "    <tr>\n",
              "      <th>repaglinide</th>\n",
              "      <td>No</td>\n",
              "      <td>No</td>\n",
              "      <td>No</td>\n",
              "      <td>No</td>\n",
              "      <td>No</td>\n",
              "    </tr>\n",
              "    <tr>\n",
              "      <th>nateglinide</th>\n",
              "      <td>No</td>\n",
              "      <td>No</td>\n",
              "      <td>No</td>\n",
              "      <td>No</td>\n",
              "      <td>No</td>\n",
              "    </tr>\n",
              "    <tr>\n",
              "      <th>chlorpropamide</th>\n",
              "      <td>No</td>\n",
              "      <td>No</td>\n",
              "      <td>No</td>\n",
              "      <td>No</td>\n",
              "      <td>No</td>\n",
              "    </tr>\n",
              "    <tr>\n",
              "      <th>glimepiride</th>\n",
              "      <td>No</td>\n",
              "      <td>No</td>\n",
              "      <td>No</td>\n",
              "      <td>No</td>\n",
              "      <td>No</td>\n",
              "    </tr>\n",
              "    <tr>\n",
              "      <th>acetohexamide</th>\n",
              "      <td>No</td>\n",
              "      <td>No</td>\n",
              "      <td>No</td>\n",
              "      <td>No</td>\n",
              "      <td>No</td>\n",
              "    </tr>\n",
              "    <tr>\n",
              "      <th>glipizide</th>\n",
              "      <td>No</td>\n",
              "      <td>No</td>\n",
              "      <td>Steady</td>\n",
              "      <td>No</td>\n",
              "      <td>Steady</td>\n",
              "    </tr>\n",
              "    <tr>\n",
              "      <th>glyburide</th>\n",
              "      <td>No</td>\n",
              "      <td>No</td>\n",
              "      <td>No</td>\n",
              "      <td>No</td>\n",
              "      <td>No</td>\n",
              "    </tr>\n",
              "    <tr>\n",
              "      <th>tolbutamide</th>\n",
              "      <td>No</td>\n",
              "      <td>No</td>\n",
              "      <td>No</td>\n",
              "      <td>No</td>\n",
              "      <td>No</td>\n",
              "    </tr>\n",
              "    <tr>\n",
              "      <th>pioglitazone</th>\n",
              "      <td>No</td>\n",
              "      <td>No</td>\n",
              "      <td>No</td>\n",
              "      <td>No</td>\n",
              "      <td>No</td>\n",
              "    </tr>\n",
              "    <tr>\n",
              "      <th>rosiglitazone</th>\n",
              "      <td>No</td>\n",
              "      <td>No</td>\n",
              "      <td>No</td>\n",
              "      <td>No</td>\n",
              "      <td>No</td>\n",
              "    </tr>\n",
              "    <tr>\n",
              "      <th>acarbose</th>\n",
              "      <td>No</td>\n",
              "      <td>No</td>\n",
              "      <td>No</td>\n",
              "      <td>No</td>\n",
              "      <td>No</td>\n",
              "    </tr>\n",
              "    <tr>\n",
              "      <th>miglitol</th>\n",
              "      <td>No</td>\n",
              "      <td>No</td>\n",
              "      <td>No</td>\n",
              "      <td>No</td>\n",
              "      <td>No</td>\n",
              "    </tr>\n",
              "    <tr>\n",
              "      <th>troglitazone</th>\n",
              "      <td>No</td>\n",
              "      <td>No</td>\n",
              "      <td>No</td>\n",
              "      <td>No</td>\n",
              "      <td>No</td>\n",
              "    </tr>\n",
              "    <tr>\n",
              "      <th>tolazamide</th>\n",
              "      <td>No</td>\n",
              "      <td>No</td>\n",
              "      <td>No</td>\n",
              "      <td>No</td>\n",
              "      <td>No</td>\n",
              "    </tr>\n",
              "    <tr>\n",
              "      <th>examide</th>\n",
              "      <td>No</td>\n",
              "      <td>No</td>\n",
              "      <td>No</td>\n",
              "      <td>No</td>\n",
              "      <td>No</td>\n",
              "    </tr>\n",
              "    <tr>\n",
              "      <th>citoglipton</th>\n",
              "      <td>No</td>\n",
              "      <td>No</td>\n",
              "      <td>No</td>\n",
              "      <td>No</td>\n",
              "      <td>No</td>\n",
              "    </tr>\n",
              "    <tr>\n",
              "      <th>insulin</th>\n",
              "      <td>No</td>\n",
              "      <td>Up</td>\n",
              "      <td>No</td>\n",
              "      <td>Up</td>\n",
              "      <td>Steady</td>\n",
              "    </tr>\n",
              "    <tr>\n",
              "      <th>glyburide-metformin</th>\n",
              "      <td>No</td>\n",
              "      <td>No</td>\n",
              "      <td>No</td>\n",
              "      <td>No</td>\n",
              "      <td>No</td>\n",
              "    </tr>\n",
              "    <tr>\n",
              "      <th>glipizide-metformin</th>\n",
              "      <td>No</td>\n",
              "      <td>No</td>\n",
              "      <td>No</td>\n",
              "      <td>No</td>\n",
              "      <td>No</td>\n",
              "    </tr>\n",
              "    <tr>\n",
              "      <th>glimepiride-pioglitazone</th>\n",
              "      <td>No</td>\n",
              "      <td>No</td>\n",
              "      <td>No</td>\n",
              "      <td>No</td>\n",
              "      <td>No</td>\n",
              "    </tr>\n",
              "    <tr>\n",
              "      <th>metformin-rosiglitazone</th>\n",
              "      <td>No</td>\n",
              "      <td>No</td>\n",
              "      <td>No</td>\n",
              "      <td>No</td>\n",
              "      <td>No</td>\n",
              "    </tr>\n",
              "    <tr>\n",
              "      <th>metformin-pioglitazone</th>\n",
              "      <td>No</td>\n",
              "      <td>No</td>\n",
              "      <td>No</td>\n",
              "      <td>No</td>\n",
              "      <td>No</td>\n",
              "    </tr>\n",
              "    <tr>\n",
              "      <th>change</th>\n",
              "      <td>No</td>\n",
              "      <td>Ch</td>\n",
              "      <td>No</td>\n",
              "      <td>Ch</td>\n",
              "      <td>Ch</td>\n",
              "    </tr>\n",
              "    <tr>\n",
              "      <th>diabetesMed</th>\n",
              "      <td>No</td>\n",
              "      <td>Yes</td>\n",
              "      <td>Yes</td>\n",
              "      <td>Yes</td>\n",
              "      <td>Yes</td>\n",
              "    </tr>\n",
              "    <tr>\n",
              "      <th>readmitted</th>\n",
              "      <td>NO</td>\n",
              "      <td>&gt;30</td>\n",
              "      <td>NO</td>\n",
              "      <td>NO</td>\n",
              "      <td>NO</td>\n",
              "    </tr>\n",
              "  </tbody>\n",
              "</table>\n",
              "</div>\n",
              "      <button class=\"colab-df-convert\" onclick=\"convertToInteractive('df-b8661efd-c835-43bb-bc05-fde37fda8bae')\"\n",
              "              title=\"Convert this dataframe to an interactive table.\"\n",
              "              style=\"display:none;\">\n",
              "        \n",
              "  <svg xmlns=\"http://www.w3.org/2000/svg\" height=\"24px\"viewBox=\"0 0 24 24\"\n",
              "       width=\"24px\">\n",
              "    <path d=\"M0 0h24v24H0V0z\" fill=\"none\"/>\n",
              "    <path d=\"M18.56 5.44l.94 2.06.94-2.06 2.06-.94-2.06-.94-.94-2.06-.94 2.06-2.06.94zm-11 1L8.5 8.5l.94-2.06 2.06-.94-2.06-.94L8.5 2.5l-.94 2.06-2.06.94zm10 10l.94 2.06.94-2.06 2.06-.94-2.06-.94-.94-2.06-.94 2.06-2.06.94z\"/><path d=\"M17.41 7.96l-1.37-1.37c-.4-.4-.92-.59-1.43-.59-.52 0-1.04.2-1.43.59L10.3 9.45l-7.72 7.72c-.78.78-.78 2.05 0 2.83L4 21.41c.39.39.9.59 1.41.59.51 0 1.02-.2 1.41-.59l7.78-7.78 2.81-2.81c.8-.78.8-2.07 0-2.86zM5.41 20L4 18.59l7.72-7.72 1.47 1.35L5.41 20z\"/>\n",
              "  </svg>\n",
              "      </button>\n",
              "      \n",
              "  <style>\n",
              "    .colab-df-container {\n",
              "      display:flex;\n",
              "      flex-wrap:wrap;\n",
              "      gap: 12px;\n",
              "    }\n",
              "\n",
              "    .colab-df-convert {\n",
              "      background-color: #E8F0FE;\n",
              "      border: none;\n",
              "      border-radius: 50%;\n",
              "      cursor: pointer;\n",
              "      display: none;\n",
              "      fill: #1967D2;\n",
              "      height: 32px;\n",
              "      padding: 0 0 0 0;\n",
              "      width: 32px;\n",
              "    }\n",
              "\n",
              "    .colab-df-convert:hover {\n",
              "      background-color: #E2EBFA;\n",
              "      box-shadow: 0px 1px 2px rgba(60, 64, 67, 0.3), 0px 1px 3px 1px rgba(60, 64, 67, 0.15);\n",
              "      fill: #174EA6;\n",
              "    }\n",
              "\n",
              "    [theme=dark] .colab-df-convert {\n",
              "      background-color: #3B4455;\n",
              "      fill: #D2E3FC;\n",
              "    }\n",
              "\n",
              "    [theme=dark] .colab-df-convert:hover {\n",
              "      background-color: #434B5C;\n",
              "      box-shadow: 0px 1px 3px 1px rgba(0, 0, 0, 0.15);\n",
              "      filter: drop-shadow(0px 1px 2px rgba(0, 0, 0, 0.3));\n",
              "      fill: #FFFFFF;\n",
              "    }\n",
              "  </style>\n",
              "\n",
              "      <script>\n",
              "        const buttonEl =\n",
              "          document.querySelector('#df-b8661efd-c835-43bb-bc05-fde37fda8bae button.colab-df-convert');\n",
              "        buttonEl.style.display =\n",
              "          google.colab.kernel.accessAllowed ? 'block' : 'none';\n",
              "\n",
              "        async function convertToInteractive(key) {\n",
              "          const element = document.querySelector('#df-b8661efd-c835-43bb-bc05-fde37fda8bae');\n",
              "          const dataTable =\n",
              "            await google.colab.kernel.invokeFunction('convertToInteractive',\n",
              "                                                     [key], {});\n",
              "          if (!dataTable) return;\n",
              "\n",
              "          const docLinkHtml = 'Like what you see? Visit the ' +\n",
              "            '<a target=\"_blank\" href=https://colab.research.google.com/notebooks/data_table.ipynb>data table notebook</a>'\n",
              "            + ' to learn more about interactive tables.';\n",
              "          element.innerHTML = '';\n",
              "          dataTable['output_type'] = 'display_data';\n",
              "          await google.colab.output.renderOutput(dataTable, element);\n",
              "          const docLink = document.createElement('div');\n",
              "          docLink.innerHTML = docLinkHtml;\n",
              "          element.appendChild(docLink);\n",
              "        }\n",
              "      </script>\n",
              "    </div>\n",
              "  </div>\n",
              "  "
            ],
            "text/plain": [
              "                                                 0          1  \\\n",
              "encounter_id                               2278392     149190   \n",
              "patient_nbr                                8222157   55629189   \n",
              "race                                     Caucasian  Caucasian   \n",
              "gender                                      Female     Female   \n",
              "age                                         [0-10)    [10-20)   \n",
              "weight                                        None       None   \n",
              "admission_type_id                                6          1   \n",
              "discharge_disposition_id                        25          1   \n",
              "admission_source_id                              1          7   \n",
              "time_in_hospital                                 1          3   \n",
              "payer_code                                    None       None   \n",
              "medical_specialty         Pediatrics-Endocrinology       None   \n",
              "num_lab_procedures                              41         59   \n",
              "num_procedures                                   0          0   \n",
              "num_medications                                  1         18   \n",
              "number_outpatient                                0          0   \n",
              "number_emergency                                 0          0   \n",
              "number_inpatient                                 0          0   \n",
              "diag_1                                      250.83        276   \n",
              "diag_2                                        None     250.01   \n",
              "diag_3                                        None        255   \n",
              "number_diagnoses                                 1          9   \n",
              "max_glu_serum                                 None       None   \n",
              "A1Cresult                                     None       None   \n",
              "metformin                                       No         No   \n",
              "repaglinide                                     No         No   \n",
              "nateglinide                                     No         No   \n",
              "chlorpropamide                                  No         No   \n",
              "glimepiride                                     No         No   \n",
              "acetohexamide                                   No         No   \n",
              "glipizide                                       No         No   \n",
              "glyburide                                       No         No   \n",
              "tolbutamide                                     No         No   \n",
              "pioglitazone                                    No         No   \n",
              "rosiglitazone                                   No         No   \n",
              "acarbose                                        No         No   \n",
              "miglitol                                        No         No   \n",
              "troglitazone                                    No         No   \n",
              "tolazamide                                      No         No   \n",
              "examide                                         No         No   \n",
              "citoglipton                                     No         No   \n",
              "insulin                                         No         Up   \n",
              "glyburide-metformin                             No         No   \n",
              "glipizide-metformin                             No         No   \n",
              "glimepiride-pioglitazone                        No         No   \n",
              "metformin-rosiglitazone                         No         No   \n",
              "metformin-pioglitazone                          No         No   \n",
              "change                                          No         Ch   \n",
              "diabetesMed                                     No        Yes   \n",
              "readmitted                                      NO        >30   \n",
              "\n",
              "                                        2          3          4  \n",
              "encounter_id                        64410     500364      16680  \n",
              "patient_nbr                      86047875   82442376   42519267  \n",
              "race                      AfricanAmerican  Caucasian  Caucasian  \n",
              "gender                             Female       Male       Male  \n",
              "age                               [20-30)    [30-40)    [40-50)  \n",
              "weight                               None       None       None  \n",
              "admission_type_id                       1          1          1  \n",
              "discharge_disposition_id                1          1          1  \n",
              "admission_source_id                     7          7          7  \n",
              "time_in_hospital                        2          2          1  \n",
              "payer_code                           None       None       None  \n",
              "medical_specialty                    None       None       None  \n",
              "num_lab_procedures                     11         44         51  \n",
              "num_procedures                          5          1          0  \n",
              "num_medications                        13         16          8  \n",
              "number_outpatient                       2          0          0  \n",
              "number_emergency                        0          0          0  \n",
              "number_inpatient                        1          0          0  \n",
              "diag_1                                648          8        197  \n",
              "diag_2                                250     250.43        157  \n",
              "diag_3                                V27        403        250  \n",
              "number_diagnoses                        6          7          5  \n",
              "max_glu_serum                        None       None       None  \n",
              "A1Cresult                            None       None       None  \n",
              "metformin                              No         No         No  \n",
              "repaglinide                            No         No         No  \n",
              "nateglinide                            No         No         No  \n",
              "chlorpropamide                         No         No         No  \n",
              "glimepiride                            No         No         No  \n",
              "acetohexamide                          No         No         No  \n",
              "glipizide                          Steady         No     Steady  \n",
              "glyburide                              No         No         No  \n",
              "tolbutamide                            No         No         No  \n",
              "pioglitazone                           No         No         No  \n",
              "rosiglitazone                          No         No         No  \n",
              "acarbose                               No         No         No  \n",
              "miglitol                               No         No         No  \n",
              "troglitazone                           No         No         No  \n",
              "tolazamide                             No         No         No  \n",
              "examide                                No         No         No  \n",
              "citoglipton                            No         No         No  \n",
              "insulin                                No         Up     Steady  \n",
              "glyburide-metformin                    No         No         No  \n",
              "glipizide-metformin                    No         No         No  \n",
              "glimepiride-pioglitazone               No         No         No  \n",
              "metformin-rosiglitazone                No         No         No  \n",
              "metformin-pioglitazone                 No         No         No  \n",
              "change                                 No         Ch         Ch  \n",
              "diabetesMed                           Yes        Yes        Yes  \n",
              "readmitted                             NO         NO         NO  "
            ]
          },
          "execution_count": 10,
          "metadata": {},
          "output_type": "execute_result"
        }
      ],
      "source": [
        "import pandas as pd\n",
        "pd.DataFrame(df.take(5), columns=df.columns).transpose()"
      ]
    },
    {
      "cell_type": "code",
      "execution_count": null,
      "metadata": {
        "colab": {
          "base_uri": "https://localhost:8080/"
        },
        "id": "BBQEeUXr4RP6",
        "outputId": "39b059c2-da17-40b3-d8d1-c03c57132575"
      },
      "outputs": [
        {
          "data": {
            "text/plain": [
              "pyspark.sql.dataframe.DataFrame"
            ]
          },
          "execution_count": 11,
          "metadata": {},
          "output_type": "execute_result"
        }
      ],
      "source": [
        "type(df)"
      ]
    },
    {
      "cell_type": "code",
      "execution_count": null,
      "metadata": {
        "colab": {
          "base_uri": "https://localhost:8080/"
        },
        "id": "5vUbTa_534c7",
        "outputId": "5779b945-845f-4231-e72e-8bb76c75b392"
      },
      "outputs": [
        {
          "data": {
            "text/plain": [
              "101766"
            ]
          },
          "execution_count": 12,
          "metadata": {},
          "output_type": "execute_result"
        }
      ],
      "source": [
        "df.count()"
      ]
    },
    {
      "cell_type": "code",
      "execution_count": null,
      "metadata": {
        "colab": {
          "base_uri": "https://localhost:8080/"
        },
        "id": "IwuydUAxP38x",
        "outputId": "444ecfe5-d8ee-4d65-a76f-a4de77444399"
      },
      "outputs": [
        {
          "data": {
            "text/plain": [
              "[('encounter_id', 'int'),\n",
              " ('patient_nbr', 'int'),\n",
              " ('race', 'string'),\n",
              " ('gender', 'string'),\n",
              " ('age', 'string'),\n",
              " ('weight', 'string'),\n",
              " ('admission_type_id', 'int'),\n",
              " ('discharge_disposition_id', 'int'),\n",
              " ('admission_source_id', 'int'),\n",
              " ('time_in_hospital', 'int'),\n",
              " ('payer_code', 'string'),\n",
              " ('medical_specialty', 'string'),\n",
              " ('num_lab_procedures', 'int'),\n",
              " ('num_procedures', 'int'),\n",
              " ('num_medications', 'int'),\n",
              " ('number_outpatient', 'int'),\n",
              " ('number_emergency', 'int'),\n",
              " ('number_inpatient', 'int'),\n",
              " ('diag_1', 'string'),\n",
              " ('diag_2', 'string'),\n",
              " ('diag_3', 'string'),\n",
              " ('number_diagnoses', 'int'),\n",
              " ('max_glu_serum', 'string'),\n",
              " ('A1Cresult', 'string'),\n",
              " ('metformin', 'string'),\n",
              " ('repaglinide', 'string'),\n",
              " ('nateglinide', 'string'),\n",
              " ('chlorpropamide', 'string'),\n",
              " ('glimepiride', 'string'),\n",
              " ('acetohexamide', 'string'),\n",
              " ('glipizide', 'string'),\n",
              " ('glyburide', 'string'),\n",
              " ('tolbutamide', 'string'),\n",
              " ('pioglitazone', 'string'),\n",
              " ('rosiglitazone', 'string'),\n",
              " ('acarbose', 'string'),\n",
              " ('miglitol', 'string'),\n",
              " ('troglitazone', 'string'),\n",
              " ('tolazamide', 'string'),\n",
              " ('examide', 'string'),\n",
              " ('citoglipton', 'string'),\n",
              " ('insulin', 'string'),\n",
              " ('glyburide-metformin', 'string'),\n",
              " ('glipizide-metformin', 'string'),\n",
              " ('glimepiride-pioglitazone', 'string'),\n",
              " ('metformin-rosiglitazone', 'string'),\n",
              " ('metformin-pioglitazone', 'string'),\n",
              " ('change', 'string'),\n",
              " ('diabetesMed', 'string'),\n",
              " ('readmitted', 'string')]"
            ]
          },
          "execution_count": 13,
          "metadata": {},
          "output_type": "execute_result"
        }
      ],
      "source": [
        "df.dtypes"
      ]
    },
    {
      "cell_type": "markdown",
      "metadata": {
        "id": "YIOaQF1TS5Zs"
      },
      "source": [
        "# Data Cleaning"
      ]
    },
    {
      "cell_type": "markdown",
      "metadata": {
        "id": "55zVpuCPQBLg"
      },
      "source": [
        "### Most missing data at columns (indicated by ?): Weight, Payer Code, and Medical Speciality"
      ]
    },
    {
      "cell_type": "code",
      "execution_count": null,
      "metadata": {
        "colab": {
          "base_uri": "https://localhost:8080/"
        },
        "id": "TJL5BR63P6w8",
        "outputId": "d31c4b10-d550-45ca-f977-abea1e0e27a1"
      },
      "outputs": [
        {
          "data": {
            "text/plain": [
              "{'encounter_id': 0,\n",
              " 'patient_nbr': 0,\n",
              " 'race': 2273,\n",
              " 'gender': 0,\n",
              " 'age': 0,\n",
              " 'weight': 98569,\n",
              " 'admission_type_id': 0,\n",
              " 'discharge_disposition_id': 0,\n",
              " 'admission_source_id': 0,\n",
              " 'time_in_hospital': 0,\n",
              " 'payer_code': 40256,\n",
              " 'medical_specialty': 49949,\n",
              " 'num_lab_procedures': 0,\n",
              " 'num_procedures': 0,\n",
              " 'num_medications': 0,\n",
              " 'number_outpatient': 0,\n",
              " 'number_emergency': 0,\n",
              " 'number_inpatient': 0,\n",
              " 'diag_1': 21,\n",
              " 'diag_2': 358,\n",
              " 'diag_3': 1423,\n",
              " 'number_diagnoses': 0,\n",
              " 'max_glu_serum': 0,\n",
              " 'A1Cresult': 0,\n",
              " 'metformin': 0,\n",
              " 'repaglinide': 0,\n",
              " 'nateglinide': 0,\n",
              " 'chlorpropamide': 0,\n",
              " 'glimepiride': 0,\n",
              " 'acetohexamide': 0,\n",
              " 'glipizide': 0,\n",
              " 'glyburide': 0,\n",
              " 'tolbutamide': 0,\n",
              " 'pioglitazone': 0,\n",
              " 'rosiglitazone': 0,\n",
              " 'acarbose': 0,\n",
              " 'miglitol': 0,\n",
              " 'troglitazone': 0,\n",
              " 'tolazamide': 0,\n",
              " 'examide': 0,\n",
              " 'citoglipton': 0,\n",
              " 'insulin': 0,\n",
              " 'glyburide-metformin': 0,\n",
              " 'glipizide-metformin': 0,\n",
              " 'glimepiride-pioglitazone': 0,\n",
              " 'metformin-rosiglitazone': 0,\n",
              " 'metformin-pioglitazone': 0,\n",
              " 'change': 0,\n",
              " 'diabetesMed': 0,\n",
              " 'readmitted': 0}"
            ]
          },
          "execution_count": 14,
          "metadata": {},
          "output_type": "execute_result"
        }
      ],
      "source": [
        "# counting null values\n",
        "df.select([F.count(F.when(F.isnull(c), c)).alias(c) for c in df.columns]).first().asDict()"
      ]
    },
    {
      "cell_type": "markdown",
      "metadata": {
        "id": "Aum1uH6WSLha"
      },
      "source": [
        "### drop the columns"
      ]
    },
    {
      "cell_type": "code",
      "execution_count": null,
      "metadata": {
        "id": "Q89fLSJ6QHhQ"
      },
      "outputs": [],
      "source": [
        "df = df.drop(df.weight)\n",
        "df = df.drop(df.payer_code)\n",
        "df = df.drop(df.medical_specialty)"
      ]
    },
    {
      "cell_type": "code",
      "execution_count": null,
      "metadata": {
        "id": "et7ggM0IR8a8"
      },
      "outputs": [],
      "source": [
        "df = df.dropna()"
      ]
    },
    {
      "cell_type": "markdown",
      "metadata": {
        "id": "7VQ11Tu1SVRq"
      },
      "source": [
        "### counting null values again"
      ]
    },
    {
      "cell_type": "code",
      "execution_count": null,
      "metadata": {
        "colab": {
          "base_uri": "https://localhost:8080/"
        },
        "id": "lEokAKMmSULm",
        "outputId": "7a728287-af67-4827-a8af-082179497543"
      },
      "outputs": [
        {
          "data": {
            "text/plain": [
              "{'encounter_id': 0,\n",
              " 'patient_nbr': 0,\n",
              " 'race': 0,\n",
              " 'gender': 0,\n",
              " 'age': 0,\n",
              " 'admission_type_id': 0,\n",
              " 'discharge_disposition_id': 0,\n",
              " 'admission_source_id': 0,\n",
              " 'time_in_hospital': 0,\n",
              " 'num_lab_procedures': 0,\n",
              " 'num_procedures': 0,\n",
              " 'num_medications': 0,\n",
              " 'number_outpatient': 0,\n",
              " 'number_emergency': 0,\n",
              " 'number_inpatient': 0,\n",
              " 'diag_1': 0,\n",
              " 'diag_2': 0,\n",
              " 'diag_3': 0,\n",
              " 'number_diagnoses': 0,\n",
              " 'max_glu_serum': 0,\n",
              " 'A1Cresult': 0,\n",
              " 'metformin': 0,\n",
              " 'repaglinide': 0,\n",
              " 'nateglinide': 0,\n",
              " 'chlorpropamide': 0,\n",
              " 'glimepiride': 0,\n",
              " 'acetohexamide': 0,\n",
              " 'glipizide': 0,\n",
              " 'glyburide': 0,\n",
              " 'tolbutamide': 0,\n",
              " 'pioglitazone': 0,\n",
              " 'rosiglitazone': 0,\n",
              " 'acarbose': 0,\n",
              " 'miglitol': 0,\n",
              " 'troglitazone': 0,\n",
              " 'tolazamide': 0,\n",
              " 'examide': 0,\n",
              " 'citoglipton': 0,\n",
              " 'insulin': 0,\n",
              " 'glyburide-metformin': 0,\n",
              " 'glipizide-metformin': 0,\n",
              " 'glimepiride-pioglitazone': 0,\n",
              " 'metformin-rosiglitazone': 0,\n",
              " 'metformin-pioglitazone': 0,\n",
              " 'change': 0,\n",
              " 'diabetesMed': 0,\n",
              " 'readmitted': 0}"
            ]
          },
          "execution_count": 17,
          "metadata": {},
          "output_type": "execute_result"
        }
      ],
      "source": [
        "df.select([F.count(F.when(F.isnull(c), c)).alias(c) for c in df.columns]).first().asDict()"
      ]
    },
    {
      "cell_type": "code",
      "execution_count": null,
      "metadata": {
        "colab": {
          "base_uri": "https://localhost:8080/"
        },
        "id": "lGh59E_mSUIh",
        "outputId": "64182a49-ebc9-4f64-efc5-c1af395b1c06"
      },
      "outputs": [
        {
          "data": {
            "text/plain": [
              "98053"
            ]
          },
          "execution_count": 18,
          "metadata": {},
          "output_type": "execute_result"
        }
      ],
      "source": [
        "df.count()"
      ]
    },
    {
      "cell_type": "markdown",
      "metadata": {
        "id": "2EUtWLUXSe5J"
      },
      "source": [
        "### drop the columns with IDs"
      ]
    },
    {
      "cell_type": "code",
      "execution_count": null,
      "metadata": {
        "id": "b6NXkyVDScWT"
      },
      "outputs": [],
      "source": [
        "df = df.drop(df.encounter_id)\n",
        "df = df.drop(df.patient_nbr)\n",
        "df = df.drop(df.admission_type_id)\n",
        "df = df.drop(df.discharge_disposition_id)\n",
        "df = df.drop(df.admission_source_id)"
      ]
    },
    {
      "cell_type": "markdown",
      "metadata": {
        "id": "CTsE_YoJQ29d"
      },
      "source": [
        "\n",
        "### Convert string/categorical values into integers\n",
        "These string columns will be encoded\n"
      ]
    },
    {
      "cell_type": "code",
      "execution_count": null,
      "metadata": {
        "colab": {
          "base_uri": "https://localhost:8080/"
        },
        "id": "VlQ97URrQufd",
        "outputId": "3acb43f0-10d9-436a-f96e-40779837f9d3"
      },
      "outputs": [
        {
          "data": {
            "text/plain": [
              "['race',\n",
              " 'gender',\n",
              " 'age',\n",
              " 'max_glu_serum',\n",
              " 'A1Cresult',\n",
              " 'metformin',\n",
              " 'repaglinide',\n",
              " 'nateglinide',\n",
              " 'chlorpropamide',\n",
              " 'glimepiride',\n",
              " 'acetohexamide',\n",
              " 'glipizide',\n",
              " 'glyburide',\n",
              " 'tolbutamide',\n",
              " 'pioglitazone',\n",
              " 'rosiglitazone',\n",
              " 'acarbose',\n",
              " 'miglitol',\n",
              " 'troglitazone',\n",
              " 'tolazamide',\n",
              " 'examide',\n",
              " 'citoglipton',\n",
              " 'insulin',\n",
              " 'glyburide-metformin',\n",
              " 'glipizide-metformin',\n",
              " 'glimepiride-pioglitazone',\n",
              " 'metformin-rosiglitazone',\n",
              " 'metformin-pioglitazone',\n",
              " 'change',\n",
              " 'diabetesMed']"
            ]
          },
          "execution_count": 20,
          "metadata": {},
          "output_type": "execute_result"
        }
      ],
      "source": [
        "string_columns = [column for column in df.columns if df.schema[column].jsonValue().get('type') == 'string']\n",
        "string_columns.remove('readmitted')\n",
        "string_columns.remove('diag_1')\n",
        "string_columns.remove('diag_2')\n",
        "string_columns.remove('diag_3')\n",
        "string_columns"
      ]
    },
    {
      "cell_type": "markdown",
      "metadata": {
        "id": "ITjO2bHhRGPQ"
      },
      "source": [
        "### The readmitted column should be of numeric type"
      ]
    },
    {
      "cell_type": "code",
      "execution_count": null,
      "metadata": {
        "colab": {
          "base_uri": "https://localhost:8080/"
        },
        "id": "nF47_lGHQ-Wq",
        "outputId": "8c759704-9c7d-4768-ba3a-10314bef6273"
      },
      "outputs": [
        {
          "data": {
            "text/plain": [
              "['time_in_hospital',\n",
              " 'num_lab_procedures',\n",
              " 'num_procedures',\n",
              " 'num_medications',\n",
              " 'number_outpatient',\n",
              " 'number_emergency',\n",
              " 'number_inpatient',\n",
              " 'number_diagnoses']"
            ]
          },
          "execution_count": 21,
          "metadata": {},
          "output_type": "execute_result"
        }
      ],
      "source": [
        "numeric_columns = [column for column in df.columns if df.schema[column].jsonValue().get('type') == 'integer']\n",
        "numeric_columns"
      ]
    },
    {
      "cell_type": "code",
      "execution_count": null,
      "metadata": {
        "id": "Ol4NSs0oRJxE"
      },
      "outputs": [],
      "source": [
        "for col in string_columns:\n",
        "    for val in df.select(col).distinct().collect():\n",
        "        df = df.withColumn(col + '_' + val[0], F.when(val[0] == df[col], 1).otherwise(0))"
      ]
    },
    {
      "cell_type": "code",
      "execution_count": null,
      "metadata": {
        "id": "kwvYVQHyRRfo"
      },
      "outputs": [],
      "source": [
        "for col in string_columns:\n",
        "    df = df.drop(df[col])"
      ]
    },
    {
      "cell_type": "code",
      "execution_count": null,
      "metadata": {
        "colab": {
          "base_uri": "https://localhost:8080/"
        },
        "id": "Y8rGmAODRVWz",
        "outputId": "d085b99e-c501-4501-b59f-b15ab7617f8d"
      },
      "outputs": [
        {
          "name": "stdout",
          "output_type": "stream",
          "text": [
            "root\n",
            " |-- time_in_hospital: integer (nullable = true)\n",
            " |-- num_lab_procedures: integer (nullable = true)\n",
            " |-- num_procedures: integer (nullable = true)\n",
            " |-- num_medications: integer (nullable = true)\n",
            " |-- number_outpatient: integer (nullable = true)\n",
            " |-- number_emergency: integer (nullable = true)\n",
            " |-- number_inpatient: integer (nullable = true)\n",
            " |-- diag_1: string (nullable = true)\n",
            " |-- diag_2: string (nullable = true)\n",
            " |-- diag_3: string (nullable = true)\n",
            " |-- number_diagnoses: integer (nullable = true)\n",
            " |-- readmitted: string (nullable = true)\n",
            " |-- race_Caucasian: integer (nullable = false)\n",
            " |-- race_Other: integer (nullable = false)\n",
            " |-- race_AfricanAmerican: integer (nullable = false)\n",
            " |-- race_Hispanic: integer (nullable = false)\n",
            " |-- race_Asian: integer (nullable = false)\n",
            " |-- gender_Female: integer (nullable = false)\n",
            " |-- gender_Unknown/Invalid: integer (nullable = false)\n",
            " |-- gender_Male: integer (nullable = false)\n",
            " |-- age_[70-80): integer (nullable = false)\n",
            " |-- age_[90-100): integer (nullable = false)\n",
            " |-- age_[40-50): integer (nullable = false)\n",
            " |-- age_[10-20): integer (nullable = false)\n",
            " |-- age_[20-30): integer (nullable = false)\n",
            " |-- age_[30-40): integer (nullable = false)\n",
            " |-- age_[0-10): integer (nullable = false)\n",
            " |-- age_[80-90): integer (nullable = false)\n",
            " |-- age_[50-60): integer (nullable = false)\n",
            " |-- age_[60-70): integer (nullable = false)\n",
            " |-- max_glu_serum_None: integer (nullable = false)\n",
            " |-- max_glu_serum_>300: integer (nullable = false)\n",
            " |-- max_glu_serum_Norm: integer (nullable = false)\n",
            " |-- max_glu_serum_>200: integer (nullable = false)\n",
            " |-- A1Cresult_None: integer (nullable = false)\n",
            " |-- A1Cresult_>8: integer (nullable = false)\n",
            " |-- A1Cresult_Norm: integer (nullable = false)\n",
            " |-- A1Cresult_>7: integer (nullable = false)\n",
            " |-- metformin_Steady: integer (nullable = false)\n",
            " |-- metformin_Up: integer (nullable = false)\n",
            " |-- metformin_No: integer (nullable = false)\n",
            " |-- metformin_Down: integer (nullable = false)\n",
            " |-- repaglinide_Steady: integer (nullable = false)\n",
            " |-- repaglinide_Up: integer (nullable = false)\n",
            " |-- repaglinide_No: integer (nullable = false)\n",
            " |-- repaglinide_Down: integer (nullable = false)\n",
            " |-- nateglinide_Steady: integer (nullable = false)\n",
            " |-- nateglinide_Up: integer (nullable = false)\n",
            " |-- nateglinide_No: integer (nullable = false)\n",
            " |-- nateglinide_Down: integer (nullable = false)\n",
            " |-- chlorpropamide_Steady: integer (nullable = false)\n",
            " |-- chlorpropamide_Up: integer (nullable = false)\n",
            " |-- chlorpropamide_No: integer (nullable = false)\n",
            " |-- chlorpropamide_Down: integer (nullable = false)\n",
            " |-- glimepiride_Steady: integer (nullable = false)\n",
            " |-- glimepiride_Up: integer (nullable = false)\n",
            " |-- glimepiride_No: integer (nullable = false)\n",
            " |-- glimepiride_Down: integer (nullable = false)\n",
            " |-- acetohexamide_Steady: integer (nullable = false)\n",
            " |-- acetohexamide_No: integer (nullable = false)\n",
            " |-- glipizide_Steady: integer (nullable = false)\n",
            " |-- glipizide_Up: integer (nullable = false)\n",
            " |-- glipizide_No: integer (nullable = false)\n",
            " |-- glipizide_Down: integer (nullable = false)\n",
            " |-- glyburide_Steady: integer (nullable = false)\n",
            " |-- glyburide_Up: integer (nullable = false)\n",
            " |-- glyburide_No: integer (nullable = false)\n",
            " |-- glyburide_Down: integer (nullable = false)\n",
            " |-- tolbutamide_Steady: integer (nullable = false)\n",
            " |-- tolbutamide_No: integer (nullable = false)\n",
            " |-- pioglitazone_Steady: integer (nullable = false)\n",
            " |-- pioglitazone_Up: integer (nullable = false)\n",
            " |-- pioglitazone_No: integer (nullable = false)\n",
            " |-- pioglitazone_Down: integer (nullable = false)\n",
            " |-- rosiglitazone_Steady: integer (nullable = false)\n",
            " |-- rosiglitazone_Up: integer (nullable = false)\n",
            " |-- rosiglitazone_No: integer (nullable = false)\n",
            " |-- rosiglitazone_Down: integer (nullable = false)\n",
            " |-- acarbose_Steady: integer (nullable = false)\n",
            " |-- acarbose_Up: integer (nullable = false)\n",
            " |-- acarbose_No: integer (nullable = false)\n",
            " |-- acarbose_Down: integer (nullable = false)\n",
            " |-- miglitol_Steady: integer (nullable = false)\n",
            " |-- miglitol_Up: integer (nullable = false)\n",
            " |-- miglitol_No: integer (nullable = false)\n",
            " |-- miglitol_Down: integer (nullable = false)\n",
            " |-- troglitazone_Steady: integer (nullable = false)\n",
            " |-- troglitazone_No: integer (nullable = false)\n",
            " |-- tolazamide_Steady: integer (nullable = false)\n",
            " |-- tolazamide_Up: integer (nullable = false)\n",
            " |-- tolazamide_No: integer (nullable = false)\n",
            " |-- examide_No: integer (nullable = false)\n",
            " |-- citoglipton_No: integer (nullable = false)\n",
            " |-- insulin_Steady: integer (nullable = false)\n",
            " |-- insulin_Up: integer (nullable = false)\n",
            " |-- insulin_No: integer (nullable = false)\n",
            " |-- insulin_Down: integer (nullable = false)\n",
            " |-- glyburide-metformin_Steady: integer (nullable = false)\n",
            " |-- glyburide-metformin_Up: integer (nullable = false)\n",
            " |-- glyburide-metformin_No: integer (nullable = false)\n",
            " |-- glyburide-metformin_Down: integer (nullable = false)\n",
            " |-- glipizide-metformin_Steady: integer (nullable = false)\n",
            " |-- glipizide-metformin_No: integer (nullable = false)\n",
            " |-- glimepiride-pioglitazone_Steady: integer (nullable = false)\n",
            " |-- glimepiride-pioglitazone_No: integer (nullable = false)\n",
            " |-- metformin-rosiglitazone_No: integer (nullable = false)\n",
            " |-- metformin-pioglitazone_Steady: integer (nullable = false)\n",
            " |-- metformin-pioglitazone_No: integer (nullable = false)\n",
            " |-- change_Ch: integer (nullable = false)\n",
            " |-- change_No: integer (nullable = false)\n",
            " |-- diabetesMed_No: integer (nullable = false)\n",
            " |-- diabetesMed_Yes: integer (nullable = false)\n",
            "\n"
          ]
        }
      ],
      "source": [
        "df.printSchema()"
      ]
    },
    {
      "cell_type": "markdown",
      "metadata": {
        "id": "Ogx0HopyTEnQ"
      },
      "source": [
        "### diag_1, diag_2, diag_3 have many unique values which greatly increase the size of dataset so we take only those values of these variables which occur more than 2500 times in the dataset"
      ]
    },
    {
      "cell_type": "markdown",
      "metadata": {
        "id": "4rf0y7dFTKMK"
      },
      "source": [
        "####  for diag_1"
      ]
    },
    {
      "cell_type": "code",
      "execution_count": null,
      "metadata": {
        "id": "EsYr1GegTP6-"
      },
      "outputs": [],
      "source": [
        "diag1_dataset = df.select(\"diag_1\").groupBy(\"diag_1\").count().filter('count > 2500')"
      ]
    },
    {
      "cell_type": "code",
      "execution_count": null,
      "metadata": {
        "colab": {
          "base_uri": "https://localhost:8080/"
        },
        "id": "UNTZ3QqcTPz4",
        "outputId": "f5e4fd2f-805d-41d8-9769-40858404200a"
      },
      "outputs": [
        {
          "data": {
            "text/plain": [
              "[Row(diag_1='428', count=6730),\n",
              " Row(diag_1='786', count=3900),\n",
              " Row(diag_1='410', count=3514),\n",
              " Row(diag_1='486', count=3412),\n",
              " Row(diag_1='414', count=6374),\n",
              " Row(diag_1='427', count=2701)]"
            ]
          },
          "execution_count": 26,
          "metadata": {},
          "output_type": "execute_result"
        }
      ],
      "source": [
        "diag1_dataset.collect()"
      ]
    },
    {
      "cell_type": "code",
      "execution_count": null,
      "metadata": {
        "id": "NDNnMj8JTVov"
      },
      "outputs": [],
      "source": [
        "for val in diag1_dataset.collect():\n",
        "    df = df.withColumn('diag_1' + '_' + val[0], F.when(val[0] == df['diag_1'], 1).otherwise(0))"
      ]
    },
    {
      "cell_type": "code",
      "execution_count": null,
      "metadata": {
        "id": "A15-4IR3TXZg"
      },
      "outputs": [],
      "source": [
        "df = df.drop(df['diag_1'])"
      ]
    },
    {
      "cell_type": "markdown",
      "metadata": {
        "id": "rc9zTNXtTKGK"
      },
      "source": [
        "####  for diag_2"
      ]
    },
    {
      "cell_type": "code",
      "execution_count": null,
      "metadata": {
        "id": "FgJH3cHRTQWc"
      },
      "outputs": [],
      "source": [
        "# for diag_2\n",
        "diag2_dataset = df.select(\"diag_2\").groupBy(\"diag_2\").count().filter('count > 2500')"
      ]
    },
    {
      "cell_type": "code",
      "execution_count": null,
      "metadata": {
        "id": "wP4uIR8vTQTs"
      },
      "outputs": [],
      "source": [
        "for val in diag2_dataset.collect():\n",
        "    df = df.withColumn('diag_2' + '_' + val[0], F.when(val[0] == df['diag_2'], 1).otherwise(0))"
      ]
    },
    {
      "cell_type": "code",
      "execution_count": null,
      "metadata": {
        "id": "SsU-aSsjTf8L"
      },
      "outputs": [],
      "source": [
        "df = df.drop(df['diag_2'])"
      ]
    },
    {
      "cell_type": "markdown",
      "metadata": {
        "id": "IWP9VEImTJ-E"
      },
      "source": [
        "####  for diag_3"
      ]
    },
    {
      "cell_type": "code",
      "execution_count": null,
      "metadata": {
        "id": "skbPJCECTGFL"
      },
      "outputs": [],
      "source": [
        "diag3_dataset = df.select(\"diag_3\").groupBy(\"diag_3\").count().filter('count > 2500')"
      ]
    },
    {
      "cell_type": "code",
      "execution_count": null,
      "metadata": {
        "id": "_h1RqxxHTmMR"
      },
      "outputs": [],
      "source": [
        "for val in diag3_dataset.collect():\n",
        "    df = df.withColumn('diag_3' + '_' + val[0], F.when(val[0] == df['diag_3'], 1).otherwise(0))"
      ]
    },
    {
      "cell_type": "code",
      "execution_count": null,
      "metadata": {
        "id": "_rG930NLTmJi"
      },
      "outputs": [],
      "source": [
        "df = df.drop(df['diag_3'])"
      ]
    },
    {
      "cell_type": "code",
      "execution_count": null,
      "metadata": {
        "colab": {
          "base_uri": "https://localhost:8080/"
        },
        "id": "_W9Gkp_PTubb",
        "outputId": "1a47c71d-cbc7-4b3d-c80c-ff135bdc8040"
      },
      "outputs": [
        {
          "name": "stdout",
          "output_type": "stream",
          "text": [
            "root\n",
            " |-- time_in_hospital: integer (nullable = true)\n",
            " |-- num_lab_procedures: integer (nullable = true)\n",
            " |-- num_procedures: integer (nullable = true)\n",
            " |-- num_medications: integer (nullable = true)\n",
            " |-- number_outpatient: integer (nullable = true)\n",
            " |-- number_emergency: integer (nullable = true)\n",
            " |-- number_inpatient: integer (nullable = true)\n",
            " |-- number_diagnoses: integer (nullable = true)\n",
            " |-- readmitted: string (nullable = true)\n",
            " |-- race_Caucasian: integer (nullable = false)\n",
            " |-- race_Other: integer (nullable = false)\n",
            " |-- race_AfricanAmerican: integer (nullable = false)\n",
            " |-- race_Hispanic: integer (nullable = false)\n",
            " |-- race_Asian: integer (nullable = false)\n",
            " |-- gender_Female: integer (nullable = false)\n",
            " |-- gender_Unknown/Invalid: integer (nullable = false)\n",
            " |-- gender_Male: integer (nullable = false)\n",
            " |-- age_[70-80): integer (nullable = false)\n",
            " |-- age_[90-100): integer (nullable = false)\n",
            " |-- age_[40-50): integer (nullable = false)\n",
            " |-- age_[10-20): integer (nullable = false)\n",
            " |-- age_[20-30): integer (nullable = false)\n",
            " |-- age_[30-40): integer (nullable = false)\n",
            " |-- age_[0-10): integer (nullable = false)\n",
            " |-- age_[80-90): integer (nullable = false)\n",
            " |-- age_[50-60): integer (nullable = false)\n",
            " |-- age_[60-70): integer (nullable = false)\n",
            " |-- max_glu_serum_None: integer (nullable = false)\n",
            " |-- max_glu_serum_>300: integer (nullable = false)\n",
            " |-- max_glu_serum_Norm: integer (nullable = false)\n",
            " |-- max_glu_serum_>200: integer (nullable = false)\n",
            " |-- A1Cresult_None: integer (nullable = false)\n",
            " |-- A1Cresult_>8: integer (nullable = false)\n",
            " |-- A1Cresult_Norm: integer (nullable = false)\n",
            " |-- A1Cresult_>7: integer (nullable = false)\n",
            " |-- metformin_Steady: integer (nullable = false)\n",
            " |-- metformin_Up: integer (nullable = false)\n",
            " |-- metformin_No: integer (nullable = false)\n",
            " |-- metformin_Down: integer (nullable = false)\n",
            " |-- repaglinide_Steady: integer (nullable = false)\n",
            " |-- repaglinide_Up: integer (nullable = false)\n",
            " |-- repaglinide_No: integer (nullable = false)\n",
            " |-- repaglinide_Down: integer (nullable = false)\n",
            " |-- nateglinide_Steady: integer (nullable = false)\n",
            " |-- nateglinide_Up: integer (nullable = false)\n",
            " |-- nateglinide_No: integer (nullable = false)\n",
            " |-- nateglinide_Down: integer (nullable = false)\n",
            " |-- chlorpropamide_Steady: integer (nullable = false)\n",
            " |-- chlorpropamide_Up: integer (nullable = false)\n",
            " |-- chlorpropamide_No: integer (nullable = false)\n",
            " |-- chlorpropamide_Down: integer (nullable = false)\n",
            " |-- glimepiride_Steady: integer (nullable = false)\n",
            " |-- glimepiride_Up: integer (nullable = false)\n",
            " |-- glimepiride_No: integer (nullable = false)\n",
            " |-- glimepiride_Down: integer (nullable = false)\n",
            " |-- acetohexamide_Steady: integer (nullable = false)\n",
            " |-- acetohexamide_No: integer (nullable = false)\n",
            " |-- glipizide_Steady: integer (nullable = false)\n",
            " |-- glipizide_Up: integer (nullable = false)\n",
            " |-- glipizide_No: integer (nullable = false)\n",
            " |-- glipizide_Down: integer (nullable = false)\n",
            " |-- glyburide_Steady: integer (nullable = false)\n",
            " |-- glyburide_Up: integer (nullable = false)\n",
            " |-- glyburide_No: integer (nullable = false)\n",
            " |-- glyburide_Down: integer (nullable = false)\n",
            " |-- tolbutamide_Steady: integer (nullable = false)\n",
            " |-- tolbutamide_No: integer (nullable = false)\n",
            " |-- pioglitazone_Steady: integer (nullable = false)\n",
            " |-- pioglitazone_Up: integer (nullable = false)\n",
            " |-- pioglitazone_No: integer (nullable = false)\n",
            " |-- pioglitazone_Down: integer (nullable = false)\n",
            " |-- rosiglitazone_Steady: integer (nullable = false)\n",
            " |-- rosiglitazone_Up: integer (nullable = false)\n",
            " |-- rosiglitazone_No: integer (nullable = false)\n",
            " |-- rosiglitazone_Down: integer (nullable = false)\n",
            " |-- acarbose_Steady: integer (nullable = false)\n",
            " |-- acarbose_Up: integer (nullable = false)\n",
            " |-- acarbose_No: integer (nullable = false)\n",
            " |-- acarbose_Down: integer (nullable = false)\n",
            " |-- miglitol_Steady: integer (nullable = false)\n",
            " |-- miglitol_Up: integer (nullable = false)\n",
            " |-- miglitol_No: integer (nullable = false)\n",
            " |-- miglitol_Down: integer (nullable = false)\n",
            " |-- troglitazone_Steady: integer (nullable = false)\n",
            " |-- troglitazone_No: integer (nullable = false)\n",
            " |-- tolazamide_Steady: integer (nullable = false)\n",
            " |-- tolazamide_Up: integer (nullable = false)\n",
            " |-- tolazamide_No: integer (nullable = false)\n",
            " |-- examide_No: integer (nullable = false)\n",
            " |-- citoglipton_No: integer (nullable = false)\n",
            " |-- insulin_Steady: integer (nullable = false)\n",
            " |-- insulin_Up: integer (nullable = false)\n",
            " |-- insulin_No: integer (nullable = false)\n",
            " |-- insulin_Down: integer (nullable = false)\n",
            " |-- glyburide-metformin_Steady: integer (nullable = false)\n",
            " |-- glyburide-metformin_Up: integer (nullable = false)\n",
            " |-- glyburide-metformin_No: integer (nullable = false)\n",
            " |-- glyburide-metformin_Down: integer (nullable = false)\n",
            " |-- glipizide-metformin_Steady: integer (nullable = false)\n",
            " |-- glipizide-metformin_No: integer (nullable = false)\n",
            " |-- glimepiride-pioglitazone_Steady: integer (nullable = false)\n",
            " |-- glimepiride-pioglitazone_No: integer (nullable = false)\n",
            " |-- metformin-rosiglitazone_No: integer (nullable = false)\n",
            " |-- metformin-pioglitazone_Steady: integer (nullable = false)\n",
            " |-- metformin-pioglitazone_No: integer (nullable = false)\n",
            " |-- change_Ch: integer (nullable = false)\n",
            " |-- change_No: integer (nullable = false)\n",
            " |-- diabetesMed_No: integer (nullable = false)\n",
            " |-- diabetesMed_Yes: integer (nullable = false)\n",
            " |-- diag_1_428: integer (nullable = false)\n",
            " |-- diag_1_786: integer (nullable = false)\n",
            " |-- diag_1_410: integer (nullable = false)\n",
            " |-- diag_1_486: integer (nullable = false)\n",
            " |-- diag_1_414: integer (nullable = false)\n",
            " |-- diag_1_427: integer (nullable = false)\n",
            " |-- diag_2_428: integer (nullable = false)\n",
            " |-- diag_2_250: integer (nullable = false)\n",
            " |-- diag_2_276: integer (nullable = false)\n",
            " |-- diag_2_401: integer (nullable = false)\n",
            " |-- diag_2_496: integer (nullable = false)\n",
            " |-- diag_2_403: integer (nullable = false)\n",
            " |-- diag_2_414: integer (nullable = false)\n",
            " |-- diag_2_427: integer (nullable = false)\n",
            " |-- diag_2_599: integer (nullable = false)\n",
            " |-- diag_3_428: integer (nullable = false)\n",
            " |-- diag_3_250: integer (nullable = false)\n",
            " |-- diag_3_276: integer (nullable = false)\n",
            " |-- diag_3_401: integer (nullable = false)\n",
            " |-- diag_3_496: integer (nullable = false)\n",
            " |-- diag_3_414: integer (nullable = false)\n",
            " |-- diag_3_427: integer (nullable = false)\n",
            "\n"
          ]
        }
      ],
      "source": [
        "df.printSchema()"
      ]
    },
    {
      "cell_type": "markdown",
      "metadata": {
        "id": "WHcCulNoT6Js"
      },
      "source": [
        "### Now for the Readmitted column"
      ]
    },
    {
      "cell_type": "code",
      "execution_count": null,
      "metadata": {
        "id": "Pwp32afhTyuI"
      },
      "outputs": [],
      "source": [
        "df = df.withColumn(\"readmitted\", F.when(df[\"readmitted\"] == \"NO\", 0).otherwise(1))"
      ]
    },
    {
      "cell_type": "code",
      "execution_count": null,
      "metadata": {
        "id": "0nAUisZ7T5CL"
      },
      "outputs": [],
      "source": [
        "df = df.withColumnRenamed('age_[70-80)', 'age_[70-80]')\n",
        "df = df.withColumnRenamed('age_[90-100)', 'age_[90-100]')\n",
        "df = df.withColumnRenamed('age_[40-50)', 'age_[40-50]')\n",
        "df = df.withColumnRenamed('age_[10-20)', 'age_[10-20]')\n",
        "df = df.withColumnRenamed('age_[20-30)', 'age_[20-30]')\n",
        "df = df.withColumnRenamed('age_[30-40)', 'age_[30-40]')\n",
        "df = df.withColumnRenamed('age_[0-10)', 'age_[0-10]')\n",
        "df = df.withColumnRenamed('age_[80-90)', 'age_[80-90]')\n",
        "df = df.withColumnRenamed('age_[50-60)', 'age_[50-60]')\n",
        "df = df.withColumnRenamed('age_[60-70)', 'age_[60-70]')"
      ]
    },
    {
      "cell_type": "markdown",
      "metadata": {
        "id": "pQGDrfe3Wc6y"
      },
      "source": [
        "### Now the Data is Clean"
      ]
    },
    {
      "cell_type": "code",
      "execution_count": null,
      "metadata": {
        "colab": {
          "base_uri": "https://localhost:8080/",
          "height": 424
        },
        "id": "JC0OX23vUfR4",
        "outputId": "4af4bd7a-0cd7-4cc9-c0b3-b5d88d24d42e"
      },
      "outputs": [
        {
          "data": {
            "text/html": [
              "\n",
              "  <div id=\"df-454fcfa6-b03e-474d-b425-0da2666e0c6e\">\n",
              "    <div class=\"colab-df-container\">\n",
              "      <div>\n",
              "<style scoped>\n",
              "    .dataframe tbody tr th:only-of-type {\n",
              "        vertical-align: middle;\n",
              "    }\n",
              "\n",
              "    .dataframe tbody tr th {\n",
              "        vertical-align: top;\n",
              "    }\n",
              "\n",
              "    .dataframe thead th {\n",
              "        text-align: right;\n",
              "    }\n",
              "</style>\n",
              "<table border=\"1\" class=\"dataframe\">\n",
              "  <thead>\n",
              "    <tr style=\"text-align: right;\">\n",
              "      <th></th>\n",
              "      <th>0</th>\n",
              "      <th>1</th>\n",
              "      <th>2</th>\n",
              "      <th>3</th>\n",
              "      <th>4</th>\n",
              "    </tr>\n",
              "  </thead>\n",
              "  <tbody>\n",
              "    <tr>\n",
              "      <th>time_in_hospital</th>\n",
              "      <td>3</td>\n",
              "      <td>2</td>\n",
              "      <td>2</td>\n",
              "      <td>1</td>\n",
              "      <td>3</td>\n",
              "    </tr>\n",
              "    <tr>\n",
              "      <th>num_lab_procedures</th>\n",
              "      <td>59</td>\n",
              "      <td>11</td>\n",
              "      <td>44</td>\n",
              "      <td>51</td>\n",
              "      <td>31</td>\n",
              "    </tr>\n",
              "    <tr>\n",
              "      <th>num_procedures</th>\n",
              "      <td>0</td>\n",
              "      <td>5</td>\n",
              "      <td>1</td>\n",
              "      <td>0</td>\n",
              "      <td>6</td>\n",
              "    </tr>\n",
              "    <tr>\n",
              "      <th>num_medications</th>\n",
              "      <td>18</td>\n",
              "      <td>13</td>\n",
              "      <td>16</td>\n",
              "      <td>8</td>\n",
              "      <td>16</td>\n",
              "    </tr>\n",
              "    <tr>\n",
              "      <th>number_outpatient</th>\n",
              "      <td>0</td>\n",
              "      <td>2</td>\n",
              "      <td>0</td>\n",
              "      <td>0</td>\n",
              "      <td>0</td>\n",
              "    </tr>\n",
              "    <tr>\n",
              "      <th>...</th>\n",
              "      <td>...</td>\n",
              "      <td>...</td>\n",
              "      <td>...</td>\n",
              "      <td>...</td>\n",
              "      <td>...</td>\n",
              "    </tr>\n",
              "    <tr>\n",
              "      <th>diag_3_276</th>\n",
              "      <td>0</td>\n",
              "      <td>0</td>\n",
              "      <td>0</td>\n",
              "      <td>0</td>\n",
              "      <td>0</td>\n",
              "    </tr>\n",
              "    <tr>\n",
              "      <th>diag_3_401</th>\n",
              "      <td>0</td>\n",
              "      <td>0</td>\n",
              "      <td>0</td>\n",
              "      <td>0</td>\n",
              "      <td>0</td>\n",
              "    </tr>\n",
              "    <tr>\n",
              "      <th>diag_3_496</th>\n",
              "      <td>0</td>\n",
              "      <td>0</td>\n",
              "      <td>0</td>\n",
              "      <td>0</td>\n",
              "      <td>0</td>\n",
              "    </tr>\n",
              "    <tr>\n",
              "      <th>diag_3_414</th>\n",
              "      <td>0</td>\n",
              "      <td>0</td>\n",
              "      <td>0</td>\n",
              "      <td>0</td>\n",
              "      <td>0</td>\n",
              "    </tr>\n",
              "    <tr>\n",
              "      <th>diag_3_427</th>\n",
              "      <td>0</td>\n",
              "      <td>0</td>\n",
              "      <td>0</td>\n",
              "      <td>0</td>\n",
              "      <td>0</td>\n",
              "    </tr>\n",
              "  </tbody>\n",
              "</table>\n",
              "<p>131 rows × 5 columns</p>\n",
              "</div>\n",
              "      <button class=\"colab-df-convert\" onclick=\"convertToInteractive('df-454fcfa6-b03e-474d-b425-0da2666e0c6e')\"\n",
              "              title=\"Convert this dataframe to an interactive table.\"\n",
              "              style=\"display:none;\">\n",
              "        \n",
              "  <svg xmlns=\"http://www.w3.org/2000/svg\" height=\"24px\"viewBox=\"0 0 24 24\"\n",
              "       width=\"24px\">\n",
              "    <path d=\"M0 0h24v24H0V0z\" fill=\"none\"/>\n",
              "    <path d=\"M18.56 5.44l.94 2.06.94-2.06 2.06-.94-2.06-.94-.94-2.06-.94 2.06-2.06.94zm-11 1L8.5 8.5l.94-2.06 2.06-.94-2.06-.94L8.5 2.5l-.94 2.06-2.06.94zm10 10l.94 2.06.94-2.06 2.06-.94-2.06-.94-.94-2.06-.94 2.06-2.06.94z\"/><path d=\"M17.41 7.96l-1.37-1.37c-.4-.4-.92-.59-1.43-.59-.52 0-1.04.2-1.43.59L10.3 9.45l-7.72 7.72c-.78.78-.78 2.05 0 2.83L4 21.41c.39.39.9.59 1.41.59.51 0 1.02-.2 1.41-.59l7.78-7.78 2.81-2.81c.8-.78.8-2.07 0-2.86zM5.41 20L4 18.59l7.72-7.72 1.47 1.35L5.41 20z\"/>\n",
              "  </svg>\n",
              "      </button>\n",
              "      \n",
              "  <style>\n",
              "    .colab-df-container {\n",
              "      display:flex;\n",
              "      flex-wrap:wrap;\n",
              "      gap: 12px;\n",
              "    }\n",
              "\n",
              "    .colab-df-convert {\n",
              "      background-color: #E8F0FE;\n",
              "      border: none;\n",
              "      border-radius: 50%;\n",
              "      cursor: pointer;\n",
              "      display: none;\n",
              "      fill: #1967D2;\n",
              "      height: 32px;\n",
              "      padding: 0 0 0 0;\n",
              "      width: 32px;\n",
              "    }\n",
              "\n",
              "    .colab-df-convert:hover {\n",
              "      background-color: #E2EBFA;\n",
              "      box-shadow: 0px 1px 2px rgba(60, 64, 67, 0.3), 0px 1px 3px 1px rgba(60, 64, 67, 0.15);\n",
              "      fill: #174EA6;\n",
              "    }\n",
              "\n",
              "    [theme=dark] .colab-df-convert {\n",
              "      background-color: #3B4455;\n",
              "      fill: #D2E3FC;\n",
              "    }\n",
              "\n",
              "    [theme=dark] .colab-df-convert:hover {\n",
              "      background-color: #434B5C;\n",
              "      box-shadow: 0px 1px 3px 1px rgba(0, 0, 0, 0.15);\n",
              "      filter: drop-shadow(0px 1px 2px rgba(0, 0, 0, 0.3));\n",
              "      fill: #FFFFFF;\n",
              "    }\n",
              "  </style>\n",
              "\n",
              "      <script>\n",
              "        const buttonEl =\n",
              "          document.querySelector('#df-454fcfa6-b03e-474d-b425-0da2666e0c6e button.colab-df-convert');\n",
              "        buttonEl.style.display =\n",
              "          google.colab.kernel.accessAllowed ? 'block' : 'none';\n",
              "\n",
              "        async function convertToInteractive(key) {\n",
              "          const element = document.querySelector('#df-454fcfa6-b03e-474d-b425-0da2666e0c6e');\n",
              "          const dataTable =\n",
              "            await google.colab.kernel.invokeFunction('convertToInteractive',\n",
              "                                                     [key], {});\n",
              "          if (!dataTable) return;\n",
              "\n",
              "          const docLinkHtml = 'Like what you see? Visit the ' +\n",
              "            '<a target=\"_blank\" href=https://colab.research.google.com/notebooks/data_table.ipynb>data table notebook</a>'\n",
              "            + ' to learn more about interactive tables.';\n",
              "          element.innerHTML = '';\n",
              "          dataTable['output_type'] = 'display_data';\n",
              "          await google.colab.output.renderOutput(dataTable, element);\n",
              "          const docLink = document.createElement('div');\n",
              "          docLink.innerHTML = docLinkHtml;\n",
              "          element.appendChild(docLink);\n",
              "        }\n",
              "      </script>\n",
              "    </div>\n",
              "  </div>\n",
              "  "
            ],
            "text/plain": [
              "                     0   1   2   3   4\n",
              "time_in_hospital     3   2   2   1   3\n",
              "num_lab_procedures  59  11  44  51  31\n",
              "num_procedures       0   5   1   0   6\n",
              "num_medications     18  13  16   8  16\n",
              "number_outpatient    0   2   0   0   0\n",
              "...                 ..  ..  ..  ..  ..\n",
              "diag_3_276           0   0   0   0   0\n",
              "diag_3_401           0   0   0   0   0\n",
              "diag_3_496           0   0   0   0   0\n",
              "diag_3_414           0   0   0   0   0\n",
              "diag_3_427           0   0   0   0   0\n",
              "\n",
              "[131 rows x 5 columns]"
            ]
          },
          "execution_count": 38,
          "metadata": {},
          "output_type": "execute_result"
        }
      ],
      "source": [
        "pd.DataFrame(df.take(5), columns=df.columns).transpose()"
      ]
    },
    {
      "cell_type": "markdown",
      "metadata": {
        "id": "_SiBw44x-rr8"
      },
      "source": [
        "## Visualization"
      ]
    },
    {
      "cell_type": "markdown",
      "metadata": {
        "id": "cDlpN8UMA31O"
      },
      "source": [
        "### We can see data is almost balanced"
      ]
    },
    {
      "cell_type": "code",
      "execution_count": null,
      "metadata": {
        "colab": {
          "base_uri": "https://localhost:8080/",
          "height": 112
        },
        "id": "xfI4u8JNWZ1u",
        "outputId": "cef322d4-6697-4812-d3fb-54c7fc317a17"
      },
      "outputs": [
        {
          "data": {
            "text/html": [
              "\n",
              "  <div id=\"df-4fbb23f3-f34f-43d7-8a51-b14518a87e7a\">\n",
              "    <div class=\"colab-df-container\">\n",
              "      <div>\n",
              "<style scoped>\n",
              "    .dataframe tbody tr th:only-of-type {\n",
              "        vertical-align: middle;\n",
              "    }\n",
              "\n",
              "    .dataframe tbody tr th {\n",
              "        vertical-align: top;\n",
              "    }\n",
              "\n",
              "    .dataframe thead th {\n",
              "        text-align: right;\n",
              "    }\n",
              "</style>\n",
              "<table border=\"1\" class=\"dataframe\">\n",
              "  <thead>\n",
              "    <tr style=\"text-align: right;\">\n",
              "      <th></th>\n",
              "      <th>readmitted</th>\n",
              "      <th>count</th>\n",
              "    </tr>\n",
              "  </thead>\n",
              "  <tbody>\n",
              "    <tr>\n",
              "      <th>0</th>\n",
              "      <td>1</td>\n",
              "      <td>45715</td>\n",
              "    </tr>\n",
              "    <tr>\n",
              "      <th>1</th>\n",
              "      <td>0</td>\n",
              "      <td>52338</td>\n",
              "    </tr>\n",
              "  </tbody>\n",
              "</table>\n",
              "</div>\n",
              "      <button class=\"colab-df-convert\" onclick=\"convertToInteractive('df-4fbb23f3-f34f-43d7-8a51-b14518a87e7a')\"\n",
              "              title=\"Convert this dataframe to an interactive table.\"\n",
              "              style=\"display:none;\">\n",
              "        \n",
              "  <svg xmlns=\"http://www.w3.org/2000/svg\" height=\"24px\"viewBox=\"0 0 24 24\"\n",
              "       width=\"24px\">\n",
              "    <path d=\"M0 0h24v24H0V0z\" fill=\"none\"/>\n",
              "    <path d=\"M18.56 5.44l.94 2.06.94-2.06 2.06-.94-2.06-.94-.94-2.06-.94 2.06-2.06.94zm-11 1L8.5 8.5l.94-2.06 2.06-.94-2.06-.94L8.5 2.5l-.94 2.06-2.06.94zm10 10l.94 2.06.94-2.06 2.06-.94-2.06-.94-.94-2.06-.94 2.06-2.06.94z\"/><path d=\"M17.41 7.96l-1.37-1.37c-.4-.4-.92-.59-1.43-.59-.52 0-1.04.2-1.43.59L10.3 9.45l-7.72 7.72c-.78.78-.78 2.05 0 2.83L4 21.41c.39.39.9.59 1.41.59.51 0 1.02-.2 1.41-.59l7.78-7.78 2.81-2.81c.8-.78.8-2.07 0-2.86zM5.41 20L4 18.59l7.72-7.72 1.47 1.35L5.41 20z\"/>\n",
              "  </svg>\n",
              "      </button>\n",
              "      \n",
              "  <style>\n",
              "    .colab-df-container {\n",
              "      display:flex;\n",
              "      flex-wrap:wrap;\n",
              "      gap: 12px;\n",
              "    }\n",
              "\n",
              "    .colab-df-convert {\n",
              "      background-color: #E8F0FE;\n",
              "      border: none;\n",
              "      border-radius: 50%;\n",
              "      cursor: pointer;\n",
              "      display: none;\n",
              "      fill: #1967D2;\n",
              "      height: 32px;\n",
              "      padding: 0 0 0 0;\n",
              "      width: 32px;\n",
              "    }\n",
              "\n",
              "    .colab-df-convert:hover {\n",
              "      background-color: #E2EBFA;\n",
              "      box-shadow: 0px 1px 2px rgba(60, 64, 67, 0.3), 0px 1px 3px 1px rgba(60, 64, 67, 0.15);\n",
              "      fill: #174EA6;\n",
              "    }\n",
              "\n",
              "    [theme=dark] .colab-df-convert {\n",
              "      background-color: #3B4455;\n",
              "      fill: #D2E3FC;\n",
              "    }\n",
              "\n",
              "    [theme=dark] .colab-df-convert:hover {\n",
              "      background-color: #434B5C;\n",
              "      box-shadow: 0px 1px 3px 1px rgba(0, 0, 0, 0.15);\n",
              "      filter: drop-shadow(0px 1px 2px rgba(0, 0, 0, 0.3));\n",
              "      fill: #FFFFFF;\n",
              "    }\n",
              "  </style>\n",
              "\n",
              "      <script>\n",
              "        const buttonEl =\n",
              "          document.querySelector('#df-4fbb23f3-f34f-43d7-8a51-b14518a87e7a button.colab-df-convert');\n",
              "        buttonEl.style.display =\n",
              "          google.colab.kernel.accessAllowed ? 'block' : 'none';\n",
              "\n",
              "        async function convertToInteractive(key) {\n",
              "          const element = document.querySelector('#df-4fbb23f3-f34f-43d7-8a51-b14518a87e7a');\n",
              "          const dataTable =\n",
              "            await google.colab.kernel.invokeFunction('convertToInteractive',\n",
              "                                                     [key], {});\n",
              "          if (!dataTable) return;\n",
              "\n",
              "          const docLinkHtml = 'Like what you see? Visit the ' +\n",
              "            '<a target=\"_blank\" href=https://colab.research.google.com/notebooks/data_table.ipynb>data table notebook</a>'\n",
              "            + ' to learn more about interactive tables.';\n",
              "          element.innerHTML = '';\n",
              "          dataTable['output_type'] = 'display_data';\n",
              "          await google.colab.output.renderOutput(dataTable, element);\n",
              "          const docLink = document.createElement('div');\n",
              "          docLink.innerHTML = docLinkHtml;\n",
              "          element.appendChild(docLink);\n",
              "        }\n",
              "      </script>\n",
              "    </div>\n",
              "  </div>\n",
              "  "
            ],
            "text/plain": [
              "   readmitted  count\n",
              "0           1  45715\n",
              "1           0  52338"
            ]
          },
          "execution_count": 41,
          "metadata": {},
          "output_type": "execute_result"
        }
      ],
      "source": [
        "df.groupby('readmitted').count().toPandas()"
      ]
    },
    {
      "cell_type": "code",
      "execution_count": null,
      "metadata": {
        "colab": {
          "base_uri": "https://localhost:8080/",
          "height": 282
        },
        "id": "uVHG_a-A-mUz",
        "outputId": "cc5ab9ce-bfed-4141-d66c-6b8144535480"
      },
      "outputs": [
        {
          "data": {
            "image/png": "[encoded data removed]",
            "text/plain": [
              "<Figure size 432x288 with 1 Axes>"
            ]
          },
          "metadata": {},
          "output_type": "display_data"
        }
      ],
      "source": [
        "sns.countplot('readmitted', data=pd.DataFrame(df.take(98053),columns = df.columns))\n",
        "plt.show()"
      ]
    },
    {
      "cell_type": "code",
      "execution_count": null,
      "metadata": {
        "id": "dzG4-1JH-4cZ"
      },
      "outputs": [],
      "source": [
        "dff = pd.read_csv(path)"
      ]
    },
    {
      "cell_type": "code",
      "execution_count": null,
      "metadata": {
        "id": "6YfzDZk6Dami"
      },
      "outputs": [],
      "source": [
        "for i in range(24,47): #No-0,Down-1,Up-2,Steady-3\n",
        "    dff[dff.columns[i]] = dff[dff.columns[i]].map({'No': -2, 'Down': -1, \"Up\":1, 'Steady':0})\n",
        "dff['readmitted'] = dff['readmitted'].map({'NO': 0, '<30': 1, \">30\":2})\n",
        "dff['readmittedbinary'] = dff['readmitted'].map({0: 0, 1: 1, 2:1})\n",
        "dff['change'] = dff['change'].map({'No': -1, 'Ch': 1})#No-0,Ch-1\n",
        "dff['max_glu_serum'] = dff['max_glu_serum'].map({'None': 0, '>200': 2,'>300':3,'Norm':1})\n",
        "dff['A1Cresult'] = dff['A1Cresult'].map({'None': 0, '>7': 7,'>8':8,'Norm':5})\n",
        "dff['diabetesMed'] = dff['diabetesMed'].map({'No': -1, 'Yes': 1})\n",
        "dff['age'] = dff['age'].map({'[0-10)':5,'[10-20)':15, '[20-30)':25,'[30-40)':35,'[40-50)':45,'[50-60)':55,'[60-70)':65,'[70-80)':75,'[80-90)':85,'[90-100)':95})\n",
        "dff.drop(['encounter_id','patient_nbr','weight','admission_type_id','discharge_disposition_id','admission_source_id','medical_specialty','payer_code'],axis=1,inplace=True)\n",
        "dff=dff.loc[dff['gender'].isin(['Male','Female'])]\n",
        "acuracy = 40*2\n",
        "dff.replace('?', np.nan, inplace = True)\n",
        "dff= dff.dropna()\n"
      ]
    },
    {
      "cell_type": "markdown",
      "metadata": {
        "id": "0hSoRJbJLeXs"
      },
      "source": [
        "### Caucasians and AfricanAmerican are the one who Mostly suffers with Diabetes"
      ]
    },
    {
      "cell_type": "code",
      "execution_count": null,
      "metadata": {
        "colab": {
          "base_uri": "https://localhost:8080/",
          "height": 282
        },
        "id": "307b4XRFEMG5",
        "outputId": "a9670f08-e378-47ae-b132-8a4ee3a3f2c7"
      },
      "outputs": [
        {
          "data": {
            "image/png": "[encoded data removed]",
            "text/plain": [
              "<Figure size 432x288 with 1 Axes>"
            ]
          },
          "metadata": {},
          "output_type": "display_data"
        }
      ],
      "source": [
        "c = sns.countplot(x = dff['race'], hue= dff['readmitted'])\n"
      ]
    },
    {
      "cell_type": "markdown",
      "metadata": {
        "id": "G7usWUQjMAN1"
      },
      "source": [
        "Here we can see Higer the Persons age , Higher is the chance to get Diabetes"
      ]
    },
    {
      "cell_type": "code",
      "execution_count": null,
      "metadata": {
        "colab": {
          "base_uri": "https://localhost:8080/",
          "height": 282
        },
        "id": "IIMr2Tq-EOUu",
        "outputId": "4bcba46b-a431-48e9-fabc-2233b9982217"
      },
      "outputs": [
        {
          "data": {
            "image/png": "[encoded data removed]",
            "text/plain": [
              "<Figure size 432x288 with 1 Axes>"
            ]
          },
          "metadata": {},
          "output_type": "display_data"
        }
      ],
      "source": [
        "count_of_y = dff[\"age\"].groupby(dff[\"readmitted\"]).value_counts().rename(\"counts\").reset_index()\n",
        "fig = sns.lineplot(x=\"age\", y=\"counts\", hue=\"readmitted\", data=count_of_y)"
      ]
    },
    {
      "cell_type": "code",
      "execution_count": null,
      "metadata": {
        "colab": {
          "base_uri": "https://localhost:8080/",
          "height": 643
        },
        "id": "E_En6xUVMT7S",
        "outputId": "1b0f59ef-bdef-4b2b-ec48-07b904c286b3"
      },
      "outputs": [
        {
          "data": {
            "text/plain": [
              "Text(0.5, 1.0, 'Age of Patient VS. Readmission')"
            ]
          },
          "execution_count": 47,
          "metadata": {},
          "output_type": "execute_result"
        },
        {
          "data": {
            "image/png": "[encoded data removed]",
            "text/plain": [
              "<Figure size 1080x720 with 1 Axes>"
            ]
          },
          "metadata": {},
          "output_type": "display_data"
        }
      ],
      "source": [
        "fig = plt.figure(figsize=(15,10))\n",
        "sns.countplot(y= dff['age'], hue = dff['readmitted']).set_title('Age of Patient VS. Readmission')"
      ]
    },
    {
      "cell_type": "markdown",
      "metadata": {
        "id": "I0KBlWQiHAIR"
      },
      "source": [
        "## Correlation Plot\n",
        "Below we can see that there is very less Correlation Among the Features"
      ]
    },
    {
      "cell_type": "code",
      "execution_count": null,
      "metadata": {
        "colab": {
          "base_uri": "https://localhost:8080/",
          "height": 396
        },
        "id": "o-LhAm5JETrQ",
        "outputId": "0c84bb72-0cef-45ec-b7b7-ba2106f9e3fe"
      },
      "outputs": [
        {
          "data": {
            "text/plain": [
              "<matplotlib.axes._subplots.AxesSubplot at 0x7fda068a8f10>"
            ]
          },
          "execution_count": 48,
          "metadata": {},
          "output_type": "execute_result"
        },
        {
          "data": {
            "image/png": "[encoded data removed]",
            "text/plain": [
              "<Figure size 432x288 with 2 Axes>"
            ]
          },
          "metadata": {},
          "output_type": "display_data"
        }
      ],
      "source": [
        "sns.heatmap(dff.corr())"
      ]
    },
    {
      "cell_type": "markdown",
      "metadata": {
        "id": "zoyXBIl6HK13"
      },
      "source": [
        "### We can Se here that in Some Cases if the Patient Spends more time in Hospital, has more chance to be Readmitted"
      ]
    },
    {
      "cell_type": "code",
      "execution_count": null,
      "metadata": {
        "colab": {
          "base_uri": "https://localhost:8080/",
          "height": 514
        },
        "id": "XCdWOyrtEVc-",
        "outputId": "bb94e8d2-2ce4-4196-f1bd-9a0b1f3dfef2"
      },
      "outputs": [
        {
          "name": "stdout",
          "output_type": "stream",
          "text": [
            "Red: Readmitted\n",
            "Blue: Not Readmitted\n"
          ]
        },
        {
          "data": {
            "text/plain": [
              "Text(0.5, 1.0, 'Time in Hospital VS. Readmission')"
            ]
          },
          "execution_count": 49,
          "metadata": {},
          "output_type": "execute_result"
        },
        {
          "data": {
            "image/png": "[encoded data removed]",
            "text/plain": [
              "<Figure size 936x504 with 1 Axes>"
            ]
          },
          "metadata": {},
          "output_type": "display_data"
        }
      ],
      "source": [
        "import matplotlib.patches as mpatches\n",
        "print(\"Red: Readmitted\")\n",
        "print(\"Blue: Not Readmitted\")\n",
        "fig = plt.figure(figsize=(13,7),)\n",
        "ax=sns.kdeplot(dff.loc[(dff['readmitted'] == 1),'time_in_hospital'] , color='b',shade=True,label='Not Readmitted')\n",
        "ax=sns.kdeplot(dff.loc[(dff['readmitted'] == 2),'time_in_hospital'] , color='r',shade=True, label='Readmitted')\n",
        "red_patch = mpatches.Patch(color='red', label='Readmitted',)\n",
        "blue_patch = mpatches.Patch(color='blue', label='Not Readmitted',)\n",
        "ax.set(xlabel='Time in Hospital', ylabel='Frequency')\n",
        "plt.title('Time in Hospital VS. Readmission')"
      ]
    },
    {
      "cell_type": "markdown",
      "metadata": {
        "id": "ySMPUrvvKawP"
      },
      "source": [
        "### Number of Medications are almost Same for all"
      ]
    },
    {
      "cell_type": "code",
      "execution_count": null,
      "metadata": {
        "colab": {
          "base_uri": "https://localhost:8080/",
          "height": 534
        },
        "id": "A3G6JmjZF2JR",
        "outputId": "9ec1693e-988e-47e9-a36d-4518fceb1d47"
      },
      "outputs": [
        {
          "data": {
            "text/plain": [
              "Text(0.5, 1.0, 'Number of medication used VS. Readmission')"
            ]
          },
          "execution_count": 50,
          "metadata": {},
          "output_type": "execute_result"
        },
        {
          "data": {
            "image/png": "[encoded data removed]",
            "text/plain": [
              "<Figure size 576x576 with 1 Axes>"
            ]
          },
          "metadata": {},
          "output_type": "display_data"
        }
      ],
      "source": [
        "fig = plt.figure(figsize=(8,8))\n",
        "sns.barplot(x = dff['readmitted'], y = dff['num_medications']).set_title(\"Number of medication used VS. Readmission\")"
      ]
    },
    {
      "cell_type": "markdown",
      "metadata": {
        "id": "GCOwFAZDGFp5"
      },
      "source": [
        "#### Below We can see that females are the more wo suffers with Diabetes and gets Readmitted"
      ]
    },
    {
      "cell_type": "code",
      "execution_count": null,
      "metadata": {
        "colab": {
          "base_uri": "https://localhost:8080/",
          "height": 534
        },
        "id": "pGrnF9EpF9ex",
        "outputId": "71368b83-3ef7-45ee-9de0-28be8e88aea0"
      },
      "outputs": [
        {
          "data": {
            "text/plain": [
              "Text(0.5, 1.0, 'Gender of Patient VS. Readmission')"
            ]
          },
          "execution_count": 51,
          "metadata": {},
          "output_type": "execute_result"
        },
        {
          "data": {
            "image/png": "[encoded data removed]",
            "text/plain": [
              "<Figure size 576x576 with 1 Axes>"
            ]
          },
          "metadata": {},
          "output_type": "display_data"
        }
      ],
      "source": [
        "fig = plt.figure(figsize=(8,8))\n",
        "sns.countplot(dff['gender'], hue = dff['readmitted']).set_title(\"Gender of Patient VS. Readmission\")"
      ]
    },
    {
      "cell_type": "markdown",
      "metadata": {
        "id": "MvKbxVjzJWbx"
      },
      "source": [
        "### Change is Medication doesn't gives a clear indication about Readmission"
      ]
    },
    {
      "cell_type": "code",
      "execution_count": null,
      "metadata": {
        "colab": {
          "base_uri": "https://localhost:8080/",
          "height": 534
        },
        "id": "fxblTwORGFEC",
        "outputId": "fb0e49f2-5b01-40dc-92b3-dad99e81820e"
      },
      "outputs": [
        {
          "data": {
            "text/plain": [
              "Text(0.5, 1.0, 'Change of Medication VS. Readmission')"
            ]
          },
          "execution_count": 52,
          "metadata": {},
          "output_type": "execute_result"
        },
        {
          "data": {
            "image/png": "[encoded data removed]",
            "text/plain": [
              "<Figure size 576x576 with 1 Axes>"
            ]
          },
          "metadata": {},
          "output_type": "display_data"
        }
      ],
      "source": [
        "fig = plt.figure(figsize=(8,8))\n",
        "sns.countplot(dff['change'], hue = dff['readmitted']).set_title('Change of Medication VS. Readmission')"
      ]
    },
    {
      "cell_type": "markdown",
      "metadata": {
        "id": "sTbY1vavJBkj"
      },
      "source": [
        "### Below we can see that, If the patient is prescribed some Medication still he has to visit or in most of the cases Patients are Readmitted"
      ]
    },
    {
      "cell_type": "code",
      "execution_count": null,
      "metadata": {
        "colab": {
          "base_uri": "https://localhost:8080/",
          "height": 534
        },
        "id": "R2W5FCiWG-MX",
        "outputId": "1b85ed6e-3c08-49c6-97c6-a191c9b0bff7"
      },
      "outputs": [
        {
          "data": {
            "text/plain": [
              "Text(0.5, 1.0, 'Diabetes Medication prescribed VS Readmission')"
            ]
          },
          "execution_count": 53,
          "metadata": {},
          "output_type": "execute_result"
        },
        {
          "data": {
            "image/png": "[encoded data removed]",
            "text/plain": [
              "<Figure size 576x576 with 1 Axes>"
            ]
          },
          "metadata": {},
          "output_type": "display_data"
        }
      ],
      "source": [
        "fig = plt.figure(figsize=(8,8))\n",
        "sns.countplot(dff['diabetesMed'], hue = dff['readmitted']).set_title('Diabetes Medication prescribed VS Readmission')"
      ]
    },
    {
      "cell_type": "markdown",
      "metadata": {
        "id": "8y7FkEypI0I1"
      },
      "source": [
        "### Below we can see that Number of Lab Procedures are Same for All the Patients"
      ]
    },
    {
      "cell_type": "code",
      "execution_count": null,
      "metadata": {
        "colab": {
          "base_uri": "https://localhost:8080/",
          "height": 425
        },
        "id": "P6LhmuuqHNQr",
        "outputId": "77b6eb51-0f32-4e0d-c46f-d2d81f35aea8"
      },
      "outputs": [
        {
          "data": {
            "text/plain": [
              "Text(0.5, 1.0, 'Number of lab procedure VS. Readmission')"
            ]
          },
          "execution_count": 54,
          "metadata": {},
          "output_type": "execute_result"
        },
        {
          "data": {
            "image/png": "[encoded data removed]",
            "text/plain": [
              "<Figure size 1080x432 with 1 Axes>"
            ]
          },
          "metadata": {},
          "output_type": "display_data"
        }
      ],
      "source": [
        "fig = plt.figure(figsize=(15,6),)\n",
        "ax=sns.kdeplot(dff.loc[(dff['readmitted'] == 1),'num_lab_procedures'] , color='b',shade=True,label='Not readmitted')\n",
        "ax=sns.kdeplot(dff.loc[(dff['readmitted'] == 2),'num_lab_procedures'] , color='r',shade=True, label='readmitted')\n",
        "ax.set(xlabel='Number of lab procedure', ylabel='Frequency')\n",
        "plt.title('Number of lab procedure VS. Readmission')"
      ]
    },
    {
      "cell_type": "markdown",
      "metadata": {
        "id": "dEq7p7skxdD3"
      },
      "source": [
        "## Model Building"
      ]
    },
    {
      "cell_type": "code",
      "execution_count": null,
      "metadata": {
        "colab": {
          "base_uri": "https://localhost:8080/"
        },
        "id": "7Lckbgh9N5rm",
        "outputId": "d19ded22-6088-469a-d168-81ed3f269150"
      },
      "outputs": [
        {
          "data": {
            "text/plain": [
              "[Row(race='Caucasian', gender='Female', age='[0-10)', weight=None, admission_type_id='6', discharge_disposition_id='25', admission_source_id='1', time_in_hospital='1', payer_code=None, medical_specialty='Pediatrics-Endocrinology', num_lab_procedures='41', num_procedures='0', num_medications='1', number_outpatient='0', number_emergency='0', number_inpatient='0', diag_1='250.83', diag_2=None, diag_3=None, number_diagnoses='1', max_glu_serum='None', A1Cresult='None', metformin='No', repaglinide='No', nateglinide='No', chlorpropamide='No', glimepiride='No', acetohexamide='No', glipizide='No', glyburide='No', tolbutamide='No', pioglitazone='No', rosiglitazone='No', acarbose='No', miglitol='No', troglitazone='No', tolazamide='No', examide='No', citoglipton='No', insulin='No', glyburide-metformin='No', glipizide-metformin='No', glimepiride-pioglitazone='No', metformin-rosiglitazone='No', metformin-pioglitazone='No', change='No', diabetesMed='No', readmitted='NO')]"
            ]
          },
          "execution_count": 55,
          "metadata": {},
          "output_type": "execute_result"
        }
      ],
      "source": [
        "rawData = df2.drop('encounter_id', 'patient_nbr')\n",
        "\n",
        "from pyspark.sql.types import *\n",
        "field_names = rawData.columns\n",
        "fields = [StructField(field_name, StringType(), True) for field_name in field_names]\n",
        "rddWithoutQues = rawData.rdd.map(lambda x: [None if string == \"?\" else string for string in x])\n",
        "schema = StructType(fields)\n",
        "diabetes = spark.createDataFrame(rddWithoutQues, schema)\n",
        "diabetes.take(1)"
      ]
    },
    {
      "cell_type": "code",
      "execution_count": null,
      "metadata": {
        "colab": {
          "base_uri": "https://localhost:8080/"
        },
        "id": "_j7Prydzb03f",
        "outputId": "b4ba0099-6480-4706-b5c5-8f082b17c154"
      },
      "outputs": [
        {
          "data": {
            "text/plain": [
              "[Row(race='Caucasian', gender='Female', age='[0-10)', weight=None, admission_type_id='6', discharge_disposition_id='25', admission_source_id='1', time_in_hospital='1', payer_code=None, medical_specialty='Pediatrics-Endocrinology', num_lab_procedures='41', num_procedures='0', num_medications='1', number_outpatient='0', number_emergency='0', number_inpatient='0', diag_1='250.83', diag_2=None, diag_3=None, number_diagnoses='1', max_glu_serum='None', A1Cresult='None', metformin='No', repaglinide='No', nateglinide='No', chlorpropamide='No', glimepiride='No', acetohexamide='No', glipizide='No', glyburide='No', tolbutamide='No', pioglitazone='No', rosiglitazone='No', acarbose='No', miglitol='No', troglitazone='No', tolazamide='No', examide='No', citoglipton='No', insulin='No', glyburide-metformin='No', glipizide-metformin='No', glimepiride-pioglitazone='No', metformin-rosiglitazone='No', metformin-pioglitazone='No', change='No', diabetesMed='No', readmitted='No')]"
            ]
          },
          "execution_count": 56,
          "metadata": {},
          "output_type": "execute_result"
        }
      ],
      "source": [
        "\n",
        "from pyspark.sql.types import StringType\n",
        "from pyspark.sql.functions import udf\n",
        "\n",
        "def modify_values(r):\n",
        "    if r == \">30\" or r ==\"<30\":\n",
        "        return \"Yes\"\n",
        "    else:\n",
        "        return \"No\"\n",
        "ol_val = udf(modify_values, StringType())\n",
        "diabetes = diabetes.withColumn(\"readmitted\",ol_val(diabetes.readmitted))\n",
        "diabetes.take(1)"
      ]
    },
    {
      "cell_type": "code",
      "execution_count": null,
      "metadata": {
        "id": "m3NLcYQPb6Ce"
      },
      "outputs": [],
      "source": [
        "diabetes = diabetes.drop('weight', 'payer_code', 'medical_specialty')"
      ]
    },
    {
      "cell_type": "code",
      "execution_count": null,
      "metadata": {
        "id": "hbt1I_L9b8in"
      },
      "outputs": [],
      "source": [
        "diabetes = diabetes.withColumn(\"diag_2\", diabetes[\"diag_2\"].cast(DoubleType()))\n",
        "diabetes = diabetes.withColumn(\"diag_3\", diabetes[\"diag_3\"].cast(DoubleType()))\n",
        "diabetes = diabetes.withColumn(\"diag_1\", diabetes[\"diag_1\"].cast(DoubleType()))\n",
        "diabetes = diabetes.withColumn(\"time_in_hospital\", diabetes[\"time_in_hospital\"].cast(DoubleType()))\n",
        "diabetes = diabetes.withColumn(\"num_lab_procedures\", diabetes[\"num_lab_procedures\"].cast(DoubleType()))\n",
        "diabetes = diabetes.withColumn(\"num_medications\", diabetes[\"num_medications\"].cast(DoubleType()))\n",
        "diabetes = diabetes.withColumn(\"number_emergency\", diabetes[\"number_emergency\"].cast(DoubleType()))\n",
        "diabetes = diabetes.withColumn(\"number_inpatient\", diabetes[\"number_inpatient\"].cast(DoubleType()))\n",
        "diabetes = diabetes.withColumn(\"number_diagnoses\", diabetes[\"number_diagnoses\"].cast(DoubleType()))\n",
        "\n",
        "# Dropping the remaining few NA rows\n",
        "diabetes = diabetes.dropna()"
      ]
    },
    {
      "cell_type": "code",
      "execution_count": null,
      "metadata": {
        "colab": {
          "base_uri": "https://localhost:8080/"
        },
        "id": "gBTXb0itb-rL",
        "outputId": "2898eab2-13e9-47d9-e67a-7a1ff24a6988"
      },
      "outputs": [
        {
          "data": {
            "text/plain": [
              "DataFrame[race: string, gender: string, age: string, admission_type_id: string, discharge_disposition_id: string, admission_source_id: string, time_in_hospital: double, num_lab_procedures: double, num_procedures: string, num_medications: double, number_outpatient: string, number_emergency: double, number_inpatient: double, diag_1: double, diag_2: double, diag_3: double, number_diagnoses: double, max_glu_serum: string, A1Cresult: string, metformin: string, glimepiride: string, glipizide: string, glyburide: string, pioglitazone: string, rosiglitazone: string, insulin: string, change: string, diabetesMed: string, readmitted: string]"
            ]
          },
          "execution_count": 59,
          "metadata": {},
          "output_type": "execute_result"
        }
      ],
      "source": [
        "\n",
        "# Redundant and unbalacned feature list imported from R\n",
        "diabetes = diabetes.drop('examide', 'citoglipton', 'metformin-rosiglitazone', 'metformin-pioglitazone', \n",
        "         'glimepiride-pioglitazone', 'citoglipton, examide', 'acetohexamide',\n",
        "    'repaglinide', 'nateglinide', 'chlorpropamide', 'tolbutamide', 'acarbose', 'miglitol',\n",
        "         'troglitazone', 'tolazamide', 'glyburide-metformin', 'glipizide-metformin')\n",
        "diabetes"
      ]
    },
    {
      "cell_type": "markdown",
      "metadata": {
        "id": "134SL2BaxRU0"
      },
      "source": [
        "### Preparing for modelling stage"
      ]
    },
    {
      "cell_type": "code",
      "execution_count": null,
      "metadata": {
        "colab": {
          "base_uri": "https://localhost:8080/"
        },
        "id": "HDZtILkrxAkp",
        "outputId": "1ea1a3c7-a72b-4697-9143-b52879db5253"
      },
      "outputs": [
        {
          "data": {
            "text/plain": [
              "DataFrame[race: string, gender: string, age: string, admission_type_id: string, discharge_disposition_id: string, admission_source_id: string, time_in_hospital: double, num_lab_procedures: double, num_procedures: string, num_medications: double, number_outpatient: string, number_emergency: double, number_inpatient: double, diag_1: double, diag_2: double, diag_3: double, number_diagnoses: double, max_glu_serum: string, A1Cresult: string, metformin: string, glimepiride: string, glipizide: string, glyburide: string, pioglitazone: string, rosiglitazone: string, insulin: string, change: string, diabetesMed: string, readmitted: string, race_index: double, gender_index: double, age_index: double, admission_type_id_index: double, discharge_disposition_id_index: double, admission_source_id_index: double, num_procedures_index: double, number_outpatient_index: double, max_glu_serum_index: double, A1Cresult_index: double, metformin_index: double, glimepiride_index: double, glipizide_index: double, glyburide_index: double, pioglitazone_index: double, rosiglitazone_index: double, insulin_index: double, change_index: double, diabetesMed_index: double, readmitted_index: double]"
            ]
          },
          "execution_count": 60,
          "metadata": {},
          "output_type": "execute_result"
        }
      ],
      "source": [
        "from pyspark.ml import Pipeline\n",
        "from pyspark.ml.feature import StringIndexer# Creating a list of STRING dtype columns\n",
        "cols_to_index_1 = [x[0] if x[1] == \"string\" else None for x in diabetes.dtypes]\n",
        "cols_to_index = [x for x in cols_to_index_1 if x != None]\n",
        "\n",
        "# Creating the indexers for each column\n",
        "indexers = [StringIndexer(inputCol=column, outputCol=column+\"_index\") for column in cols_to_index]\n",
        "indexers_fitted = [ind.fit(diabetes) for ind in indexers]\n",
        "\n",
        "# Passing it on to the Pipeline function\n",
        "# Pipeline transforms our DF using \"stages\" \n",
        "pipeline = Pipeline(stages=indexers_fitted)\n",
        "diabetes_indexed = pipeline.fit(diabetes).transform(diabetes)\n",
        "diabetes_indexed"
      ]
    },
    {
      "cell_type": "code",
      "execution_count": null,
      "metadata": {
        "id": "AyZR2FCAxOr_"
      },
      "outputs": [],
      "source": [
        "diabetes_indexed = diabetes_indexed.drop('race',\n",
        " 'gender',\n",
        " 'age',\n",
        " 'admission_type_id',\n",
        " 'discharge_disposition_id',\n",
        " 'admission_source_id',\n",
        " 'num_procedures',\n",
        " 'number_outpatient',\n",
        " 'max_glu_serum',\n",
        " 'A1Cresult',\n",
        " 'metformin',\n",
        " 'glimepiride',\n",
        " 'glipizide',\n",
        " 'glyburide',\n",
        " 'pioglitazone',\n",
        " 'rosiglitazone',\n",
        " 'insulin',\n",
        " 'change',\n",
        " 'diabetesMed',\n",
        " 'readmitted')\n",
        "\n"
      ]
    },
    {
      "cell_type": "code",
      "execution_count": null,
      "metadata": {
        "id": "2sYewRtbYnZz"
      },
      "outputs": [],
      "source": [
        "diabetes_indexed = diabetes_indexed.withColumnRenamed(\"readmitted_index\", \"readmitted\")"
      ]
    },
    {
      "cell_type": "code",
      "execution_count": null,
      "metadata": {
        "colab": {
          "base_uri": "https://localhost:8080/"
        },
        "id": "6Ll6G1mxdeuv",
        "outputId": "a18e4617-fb18-40c6-db67-00cac8ddfe1e"
      },
      "outputs": [
        {
          "data": {
            "text/plain": [
              "['race',\n",
              " 'gender',\n",
              " 'age',\n",
              " 'admission_type_id',\n",
              " 'discharge_disposition_id',\n",
              " 'admission_source_id',\n",
              " 'num_procedures',\n",
              " 'number_outpatient',\n",
              " 'max_glu_serum',\n",
              " 'A1Cresult',\n",
              " 'metformin',\n",
              " 'glimepiride',\n",
              " 'glipizide',\n",
              " 'glyburide',\n",
              " 'pioglitazone',\n",
              " 'rosiglitazone',\n",
              " 'insulin',\n",
              " 'change',\n",
              " 'diabetesMed',\n",
              " 'readmitted']"
            ]
          },
          "execution_count": 63,
          "metadata": {},
          "output_type": "execute_result"
        }
      ],
      "source": [
        "cols_to_index"
      ]
    },
    {
      "cell_type": "markdown",
      "metadata": {
        "id": "imJf135yxJ42"
      },
      "source": [
        "### One Hot Encoding\n",
        "- Creating a list of features to be OHE"
      ]
    },
    {
      "cell_type": "code",
      "execution_count": null,
      "metadata": {
        "colab": {
          "base_uri": "https://localhost:8080/"
        },
        "id": "AN91VleMxbuN",
        "outputId": "be3ccc5f-afe9-45b6-9434-55e6e5c260ba"
      },
      "outputs": [
        {
          "data": {
            "text/plain": [
              "['race_index',\n",
              " 'gender_index',\n",
              " 'age_index',\n",
              " 'admission_type_id_index',\n",
              " 'discharge_disposition_id_index',\n",
              " 'admission_source_id_index',\n",
              " 'num_procedures_index',\n",
              " 'number_outpatient_index',\n",
              " 'max_glu_serum_index',\n",
              " 'A1Cresult_index',\n",
              " 'metformin_index',\n",
              " 'glimepiride_index',\n",
              " 'glipizide_index',\n",
              " 'glyburide_index',\n",
              " 'pioglitazone_index',\n",
              " 'rosiglitazone_index',\n",
              " 'insulin_index',\n",
              " 'change_index',\n",
              " 'diabetesMed_index']"
            ]
          },
          "execution_count": 64,
          "metadata": {},
          "output_type": "execute_result"
        }
      ],
      "source": [
        "cols_to_ohe = cols_to_index\n",
        "cols_to_ohe.remove(\"readmitted\")\n",
        "cols_to_ohe_ = [col+\"_index\" for col in cols_to_ohe]\n",
        "cols_to_ohe_"
      ]
    },
    {
      "cell_type": "code",
      "execution_count": null,
      "metadata": {
        "colab": {
          "base_uri": "https://localhost:8080/"
        },
        "id": "GFGuqeo3xfkS",
        "outputId": "c3b4cd8a-1ab0-46f4-cc43-d985d123c503"
      },
      "outputs": [
        {
          "data": {
            "text/plain": [
              "[Row(time_in_hospital=3.0, num_lab_procedures=59.0, num_medications=18.0, number_emergency=0.0, number_inpatient=0.0, diag_1=276.0, diag_2=250.01, diag_3=255.0, number_diagnoses=9.0, race_index=0.0, gender_index=0.0, age_index=8.0, admission_type_id_index=0.0, discharge_disposition_id_index=0.0, admission_source_id_index=0.0, num_procedures_index=0.0, number_outpatient_index=0.0, max_glu_serum_index=0.0, A1Cresult_index=0.0, metformin_index=0.0, glimepiride_index=0.0, glipizide_index=0.0, glyburide_index=0.0, pioglitazone_index=0.0, rosiglitazone_index=0.0, insulin_index=3.0, change_index=1.0, diabetesMed_index=0.0, readmitted=1.0, race_index_vector=SparseVector(4, {0: 1.0}), gender_index_vector=SparseVector(2, {0: 1.0}), age_index_vector=SparseVector(9, {8: 1.0}), admission_type_id_index_vector=SparseVector(7, {0: 1.0}), discharge_disposition_id_index_vector=SparseVector(25, {0: 1.0}), admission_source_id_index_vector=SparseVector(15, {0: 1.0}), num_procedures_index_vector=SparseVector(6, {0: 1.0}), number_outpatient_index_vector=SparseVector(38, {0: 1.0}), max_glu_serum_index_vector=SparseVector(3, {0: 1.0}), A1Cresult_index_vector=SparseVector(3, {0: 1.0}), metformin_index_vector=SparseVector(3, {0: 1.0}), glimepiride_index_vector=SparseVector(3, {0: 1.0}), glipizide_index_vector=SparseVector(3, {0: 1.0}), glyburide_index_vector=SparseVector(3, {0: 1.0}), pioglitazone_index_vector=SparseVector(3, {0: 1.0}), rosiglitazone_index_vector=SparseVector(3, {0: 1.0}), insulin_index_vector=SparseVector(3, {}), change_index_vector=SparseVector(1, {}), diabetesMed_index_vector=SparseVector(1, {0: 1.0}))]"
            ]
          },
          "execution_count": 67,
          "metadata": {},
          "output_type": "execute_result"
        }
      ],
      "source": [
        "output_ohe_cols = [x+\"_vector\" for x in cols_to_ohe_]\n",
        "\n",
        "from pyspark.ml.feature import OneHotEncoder\n",
        "encoder = OneHotEncoder(inputCols=cols_to_ohe_,\n",
        "                                 outputCols=output_ohe_cols)\n",
        "\n",
        "model_ohe = encoder.fit(diabetes_indexed)\n",
        "diabetes_ohe = model_ohe.transform(diabetes_indexed)\n",
        "diabetes_ohe.take(1)"
      ]
    },
    {
      "cell_type": "code",
      "execution_count": null,
      "metadata": {
        "colab": {
          "base_uri": "https://localhost:8080/"
        },
        "id": "yqThqhU_xhpv",
        "outputId": "52d30adc-1e21-4726-e3b8-9e4012c61086"
      },
      "outputs": [
        {
          "data": {
            "text/plain": [
              "DataFrame[time_in_hospital: double, num_lab_procedures: double, num_medications: double, number_emergency: double, number_inpatient: double, diag_1: double, diag_2: double, diag_3: double, number_diagnoses: double, readmitted: double, race_index_vector: vector, gender_index_vector: vector, age_index_vector: vector, admission_type_id_index_vector: vector, discharge_disposition_id_index_vector: vector, admission_source_id_index_vector: vector, num_procedures_index_vector: vector, number_outpatient_index_vector: vector, max_glu_serum_index_vector: vector, A1Cresult_index_vector: vector, metformin_index_vector: vector, glimepiride_index_vector: vector, glipizide_index_vector: vector, glyburide_index_vector: vector, pioglitazone_index_vector: vector, rosiglitazone_index_vector: vector, insulin_index_vector: vector, change_index_vector: vector, diabetesMed_index_vector: vector]"
            ]
          },
          "execution_count": 68,
          "metadata": {},
          "output_type": "execute_result"
        }
      ],
      "source": [
        "diabetes_ohe = diabetes_ohe.drop('race_index',\n",
        " 'gender_index',\n",
        " 'age_index',\n",
        " 'admission_type_id_index',\n",
        " 'discharge_disposition_id_index',\n",
        " 'admission_source_id_index',\n",
        " 'num_procedures_index',\n",
        " 'number_outpatient_index',\n",
        " 'max_glu_serum_index',\n",
        " 'A1Cresult_index',\n",
        " 'metformin_index',\n",
        " 'glimepiride_index',\n",
        " 'glipizide_index',\n",
        " 'glyburide_index',\n",
        " 'pioglitazone_index',\n",
        " 'rosiglitazone_index',\n",
        " 'insulin_index',\n",
        " 'change_index',\n",
        " 'diabetesMed_index')\n",
        "diabetes_ohe"
      ]
    },
    {
      "cell_type": "code",
      "execution_count": null,
      "metadata": {
        "colab": {
          "base_uri": "https://localhost:8080/"
        },
        "id": "SKnmrJilbmNn",
        "outputId": "a33a3522-9f01-4edf-a94b-8274f78f379f"
      },
      "outputs": [
        {
          "name": "stdout",
          "output_type": "stream",
          "text": [
            "+----------+--------------------+\n",
            "|readmitted|            features|\n",
            "+----------+--------------------+\n",
            "|       1.0|(144,[0,1,2,5,6,7...|\n",
            "|       0.0|(144,[0,1,2,5,6,7...|\n",
            "|       0.0|(144,[0,1,2,5,6,7...|\n",
            "|       1.0|(144,[0,1,2,5,6,7...|\n",
            "|       1.0|(144,[0,1,2,5,6,7...|\n",
            "+----------+--------------------+\n",
            "only showing top 5 rows\n",
            "\n"
          ]
        }
      ],
      "source": [
        "# The following code will take in all of these columns and convert it to 1 column named \"features\" which will store data of\n",
        "# ALL features for 1 record (row)\n",
        "\n",
        "from pyspark.ml.feature import VectorAssembler\n",
        "\n",
        "assembler = VectorAssembler(\n",
        "    inputCols=['time_in_hospital',\n",
        " 'num_lab_procedures',\n",
        " 'num_medications',\n",
        " 'number_emergency',\n",
        " 'number_inpatient',\n",
        " 'diag_1',\n",
        " 'diag_2',\n",
        " 'diag_3',\n",
        " 'number_diagnoses',\n",
        " 'metformin_index_vector',\n",
        " 'admission_source_id_index_vector',\n",
        " 'rosiglitazone_index_vector',\n",
        " 'glimepiride_index_vector',\n",
        " 'discharge_disposition_id_index_vector',\n",
        " 'glipizide_index_vector',\n",
        " 'max_glu_serum_index_vector',\n",
        " 'gender_index_vector',\n",
        " 'number_outpatient_index_vector',\n",
        " 'race_index_vector',\n",
        " 'diabetesMed_index_vector',\n",
        " 'admission_type_id_index_vector',\n",
        " 'A1Cresult_index_vector',\n",
        " 'change_index_vector',\n",
        " 'glyburide_index_vector',\n",
        " 'age_index_vector',\n",
        " 'insulin_index_vector',\n",
        " 'pioglitazone_index_vector',\n",
        " 'num_procedures_index_vector'],\n",
        "    outputCol=\"features\")\n",
        "\n",
        "output = assembler.transform(diabetes_ohe)\n",
        "\n",
        "output = output.drop('time_in_hospital',\n",
        " 'num_lab_procedures',\n",
        " 'num_medications',\n",
        " 'number_emergency',\n",
        " 'number_inpatient',\n",
        " 'diag_1',\n",
        " 'diag_2',\n",
        " 'diag_3',\n",
        " 'number_diagnoses',\n",
        " 'metformin_index_vector',\n",
        " 'admission_source_id_index_vector',\n",
        " 'rosiglitazone_index_vector',\n",
        " 'glimepiride_index_vector',\n",
        " 'discharge_disposition_id_index_vector',\n",
        " 'glipizide_index_vector',\n",
        " 'max_glu_serum_index_vector',\n",
        " 'gender_index_vector',\n",
        " 'number_outpatient_index_vector',\n",
        " 'race_index_vector',\n",
        " 'diabetesMed_index_vector',\n",
        " 'admission_type_id_index_vector',\n",
        " 'A1Cresult_index_vector',\n",
        " 'change_index_vector',\n",
        " 'glyburide_index_vector',\n",
        " 'age_index_vector',\n",
        " 'insulin_index_vector',\n",
        " 'pioglitazone_index_vector',\n",
        " 'num_procedures_index_vector')\n",
        "\n",
        "output.show(5)\n"
      ]
    },
    {
      "cell_type": "markdown",
      "metadata": {
        "id": "hk8uQIEzfGHg"
      },
      "source": [
        "#### RANDOM FOREST"
      ]
    },
    {
      "cell_type": "code",
      "execution_count": null,
      "metadata": {
        "colab": {
          "base_uri": "https://localhost:8080/"
        },
        "id": "QZ2I9-HtfDAh",
        "outputId": "343b761c-4452-4d19-e3d6-190c27994b2c"
      },
      "outputs": [
        {
          "name": "stdout",
          "output_type": "stream",
          "text": [
            "Accuracy = 0.624582\n"
          ]
        }
      ],
      "source": [
        "from pyspark.ml.classification import RandomForestClassifier\n",
        "from pyspark.ml.evaluation import MulticlassClassificationEvaluator\n",
        "\n",
        "training, testing = output.randomSplit([0.8,0.2])\n",
        "rf = RandomForestClassifier(numTrees=100, maxDepth=6, labelCol=\"readmitted\", seed=42,\n",
        "                           featureSubsetStrategy='onethird')\n",
        "model = rf.fit(training)\n",
        "\n",
        "predictions = model.transform(testing)\n",
        "\n",
        "# Select (prediction, true label) and compute test error\n",
        "evaluator = MulticlassClassificationEvaluator(\n",
        "    labelCol=\"readmitted\", predictionCol=\"prediction\", metricName=\"accuracy\")\n",
        "\n",
        "accuracy = evaluator.evaluate(predictions)\n",
        "print(\"Accuracy = %g\" % accuracy)"
      ]
    },
    {
      "cell_type": "code",
      "execution_count": null,
      "metadata": {
        "colab": {
          "base_uri": "https://localhost:8080/",
          "height": 302
        },
        "id": "RXERW9KqYvmc",
        "outputId": "2254e81d-66f4-4832-d221-6266f4c444ef"
      },
      "outputs": [
        {
          "data": {
            "text/html": [
              "\n",
              "  <div id=\"df-aafb5fc5-25bf-416c-bd24-ab40c9df1127\">\n",
              "    <div class=\"colab-df-container\">\n",
              "      <div>\n",
              "<style scoped>\n",
              "    .dataframe tbody tr th:only-of-type {\n",
              "        vertical-align: middle;\n",
              "    }\n",
              "\n",
              "    .dataframe tbody tr th {\n",
              "        vertical-align: top;\n",
              "    }\n",
              "\n",
              "    .dataframe thead th {\n",
              "        text-align: right;\n",
              "    }\n",
              "</style>\n",
              "<table border=\"1\" class=\"dataframe\">\n",
              "  <thead>\n",
              "    <tr style=\"text-align: right;\">\n",
              "      <th></th>\n",
              "      <th>0</th>\n",
              "      <th>1</th>\n",
              "      <th>2</th>\n",
              "      <th>3</th>\n",
              "      <th>4</th>\n",
              "    </tr>\n",
              "  </thead>\n",
              "  <tbody>\n",
              "    <tr>\n",
              "      <th>readmitted</th>\n",
              "      <td>0.0</td>\n",
              "      <td>0.0</td>\n",
              "      <td>0.0</td>\n",
              "      <td>0.0</td>\n",
              "      <td>0.0</td>\n",
              "    </tr>\n",
              "    <tr>\n",
              "      <th>features</th>\n",
              "      <td>(5.0, 48.0, 22.0, 1.0, 1.0, 537.0, 562.0, 280....</td>\n",
              "      <td>(9.0, 42.0, 28.0, 1.0, 1.0, 250.1, 560.0, 599....</td>\n",
              "      <td>(11.0, 40.0, 27.0, 1.0, 1.0, 562.0, 560.0, 568...</td>\n",
              "      <td>(11.0, 57.0, 28.0, 1.0, 1.0, 996.0, 427.0, 444...</td>\n",
              "      <td>(3.0, 52.0, 6.0, 2.0, 1.0, 250.0, 276.0, 276.0...</td>\n",
              "    </tr>\n",
              "    <tr>\n",
              "      <th>rawPrediction</th>\n",
              "      <td>[38.57423104598547, 61.425768954014565]</td>\n",
              "      <td>[37.85249371993914, 62.14750628006088]</td>\n",
              "      <td>[39.40844153790176, 60.59155846209825]</td>\n",
              "      <td>[37.857886420123386, 62.142113579876636]</td>\n",
              "      <td>[37.81941100316605, 62.18058899683395]</td>\n",
              "    </tr>\n",
              "    <tr>\n",
              "      <th>probability</th>\n",
              "      <td>[0.3857423104598546, 0.6142576895401455]</td>\n",
              "      <td>[0.3785249371993913, 0.6214750628006086]</td>\n",
              "      <td>[0.39408441537901756, 0.6059155846209825]</td>\n",
              "      <td>[0.37857886420123377, 0.6214211357987662]</td>\n",
              "      <td>[0.37819411003166054, 0.6218058899683395]</td>\n",
              "    </tr>\n",
              "    <tr>\n",
              "      <th>prediction</th>\n",
              "      <td>1.0</td>\n",
              "      <td>1.0</td>\n",
              "      <td>1.0</td>\n",
              "      <td>1.0</td>\n",
              "      <td>1.0</td>\n",
              "    </tr>\n",
              "  </tbody>\n",
              "</table>\n",
              "</div>\n",
              "      <button class=\"colab-df-convert\" onclick=\"convertToInteractive('df-aafb5fc5-25bf-416c-bd24-ab40c9df1127')\"\n",
              "              title=\"Convert this dataframe to an interactive table.\"\n",
              "              style=\"display:none;\">\n",
              "        \n",
              "  <svg xmlns=\"http://www.w3.org/2000/svg\" height=\"24px\"viewBox=\"0 0 24 24\"\n",
              "       width=\"24px\">\n",
              "    <path d=\"M0 0h24v24H0V0z\" fill=\"none\"/>\n",
              "    <path d=\"M18.56 5.44l.94 2.06.94-2.06 2.06-.94-2.06-.94-.94-2.06-.94 2.06-2.06.94zm-11 1L8.5 8.5l.94-2.06 2.06-.94-2.06-.94L8.5 2.5l-.94 2.06-2.06.94zm10 10l.94 2.06.94-2.06 2.06-.94-2.06-.94-.94-2.06-.94 2.06-2.06.94z\"/><path d=\"M17.41 7.96l-1.37-1.37c-.4-.4-.92-.59-1.43-.59-.52 0-1.04.2-1.43.59L10.3 9.45l-7.72 7.72c-.78.78-.78 2.05 0 2.83L4 21.41c.39.39.9.59 1.41.59.51 0 1.02-.2 1.41-.59l7.78-7.78 2.81-2.81c.8-.78.8-2.07 0-2.86zM5.41 20L4 18.59l7.72-7.72 1.47 1.35L5.41 20z\"/>\n",
              "  </svg>\n",
              "      </button>\n",
              "      \n",
              "  <style>\n",
              "    .colab-df-container {\n",
              "      display:flex;\n",
              "      flex-wrap:wrap;\n",
              "      gap: 12px;\n",
              "    }\n",
              "\n",
              "    .colab-df-convert {\n",
              "      background-color: #E8F0FE;\n",
              "      border: none;\n",
              "      border-radius: 50%;\n",
              "      cursor: pointer;\n",
              "      display: none;\n",
              "      fill: #1967D2;\n",
              "      height: 32px;\n",
              "      padding: 0 0 0 0;\n",
              "      width: 32px;\n",
              "    }\n",
              "\n",
              "    .colab-df-convert:hover {\n",
              "      background-color: #E2EBFA;\n",
              "      box-shadow: 0px 1px 2px rgba(60, 64, 67, 0.3), 0px 1px 3px 1px rgba(60, 64, 67, 0.15);\n",
              "      fill: #174EA6;\n",
              "    }\n",
              "\n",
              "    [theme=dark] .colab-df-convert {\n",
              "      background-color: #3B4455;\n",
              "      fill: #D2E3FC;\n",
              "    }\n",
              "\n",
              "    [theme=dark] .colab-df-convert:hover {\n",
              "      background-color: #434B5C;\n",
              "      box-shadow: 0px 1px 3px 1px rgba(0, 0, 0, 0.15);\n",
              "      filter: drop-shadow(0px 1px 2px rgba(0, 0, 0, 0.3));\n",
              "      fill: #FFFFFF;\n",
              "    }\n",
              "  </style>\n",
              "\n",
              "      <script>\n",
              "        const buttonEl =\n",
              "          document.querySelector('#df-aafb5fc5-25bf-416c-bd24-ab40c9df1127 button.colab-df-convert');\n",
              "        buttonEl.style.display =\n",
              "          google.colab.kernel.accessAllowed ? 'block' : 'none';\n",
              "\n",
              "        async function convertToInteractive(key) {\n",
              "          const element = document.querySelector('#df-aafb5fc5-25bf-416c-bd24-ab40c9df1127');\n",
              "          const dataTable =\n",
              "            await google.colab.kernel.invokeFunction('convertToInteractive',\n",
              "                                                     [key], {});\n",
              "          if (!dataTable) return;\n",
              "\n",
              "          const docLinkHtml = 'Like what you see? Visit the ' +\n",
              "            '<a target=\"_blank\" href=https://colab.research.google.com/notebooks/data_table.ipynb>data table notebook</a>'\n",
              "            + ' to learn more about interactive tables.';\n",
              "          element.innerHTML = '';\n",
              "          dataTable['output_type'] = 'display_data';\n",
              "          await google.colab.output.renderOutput(dataTable, element);\n",
              "          const docLink = document.createElement('div');\n",
              "          docLink.innerHTML = docLinkHtml;\n",
              "          element.appendChild(docLink);\n",
              "        }\n",
              "      </script>\n",
              "    </div>\n",
              "  </div>\n",
              "  "
            ],
            "text/plain": [
              "                                                               0  \\\n",
              "readmitted                                                   0.0   \n",
              "features       (5.0, 48.0, 22.0, 1.0, 1.0, 537.0, 562.0, 280....   \n",
              "rawPrediction            [38.57423104598547, 61.425768954014565]   \n",
              "probability             [0.3857423104598546, 0.6142576895401455]   \n",
              "prediction                                                   1.0   \n",
              "\n",
              "                                                               1  \\\n",
              "readmitted                                                   0.0   \n",
              "features       (9.0, 42.0, 28.0, 1.0, 1.0, 250.1, 560.0, 599....   \n",
              "rawPrediction             [37.85249371993914, 62.14750628006088]   \n",
              "probability             [0.3785249371993913, 0.6214750628006086]   \n",
              "prediction                                                   1.0   \n",
              "\n",
              "                                                               2  \\\n",
              "readmitted                                                   0.0   \n",
              "features       (11.0, 40.0, 27.0, 1.0, 1.0, 562.0, 560.0, 568...   \n",
              "rawPrediction             [39.40844153790176, 60.59155846209825]   \n",
              "probability            [0.39408441537901756, 0.6059155846209825]   \n",
              "prediction                                                   1.0   \n",
              "\n",
              "                                                               3  \\\n",
              "readmitted                                                   0.0   \n",
              "features       (11.0, 57.0, 28.0, 1.0, 1.0, 996.0, 427.0, 444...   \n",
              "rawPrediction           [37.857886420123386, 62.142113579876636]   \n",
              "probability            [0.37857886420123377, 0.6214211357987662]   \n",
              "prediction                                                   1.0   \n",
              "\n",
              "                                                               4  \n",
              "readmitted                                                   0.0  \n",
              "features       (3.0, 52.0, 6.0, 2.0, 1.0, 250.0, 276.0, 276.0...  \n",
              "rawPrediction             [37.81941100316605, 62.18058899683395]  \n",
              "probability            [0.37819411003166054, 0.6218058899683395]  \n",
              "prediction                                                   1.0  "
            ]
          },
          "execution_count": 71,
          "metadata": {},
          "output_type": "execute_result"
        }
      ],
      "source": [
        "pd.DataFrame(predictions.take(5), columns=predictions.columns).transpose()"
      ]
    },
    {
      "cell_type": "markdown",
      "metadata": {
        "id": "pqr6CwoEbYIg"
      },
      "source": [
        "### FEATURE IMPORTANCES"
      ]
    },
    {
      "cell_type": "code",
      "execution_count": null,
      "metadata": {
        "colab": {
          "base_uri": "https://localhost:8080/"
        },
        "id": "awu5XaY3bWYZ",
        "outputId": "9bef0cda-df04-4575-aa68-10000b851d80"
      },
      "outputs": [
        {
          "data": {
            "text/plain": [
              "SparseVector(144, {0: 0.003, 1: 0.0052, 2: 0.0158, 3: 0.0795, 4: 0.5397, 5: 0.0022, 6: 0.0026, 7: 0.0036, 8: 0.0492, 9: 0.0004, 10: 0.0001, 11: 0.0001, 12: 0.0156, 13: 0.0002, 14: 0.0004, 15: 0.0051, 16: 0.0044, 17: 0.0001, 18: 0.0003, 19: 0.0, 20: 0.0, 27: 0.0001, 28: 0.0001, 29: 0.0, 30: 0.0002, 31: 0.0, 32: 0.0001, 33: 0.0044, 34: 0.0013, 35: 0.0045, 36: 0.0, 37: 0.0001, 38: 0.0002, 39: 0.1598, 40: 0.0004, 41: 0.0002, 42: 0.0, 44: 0.0, 45: 0.0087, 46: 0.0097, 47: 0.0, 58: 0.0002, 59: 0.0001, 60: 0.0, 61: 0.0008, 62: 0.0002, 63: 0.0002, 64: 0.0002, 65: 0.0002, 66: 0.0531, 67: 0.0012, 68: 0.001, 69: 0.0001, 71: 0.0001, 72: 0.0, 73: 0.0, 74: 0.0, 75: 0.0, 76: 0.0, 79: 0.0, 81: 0.0001, 82: 0.0, 83: 0.0, 104: 0.0002, 105: 0.0002, 106: 0.0002, 107: 0.0002, 108: 0.008, 109: 0.0007, 110: 0.0002, 111: 0.0022, 112: 0.004, 113: 0.0002, 114: 0.0001, 116: 0.0004, 117: 0.0001, 118: 0.0002, 119: 0.0004, 120: 0.0001, 121: 0.0001, 122: 0.0, 123: 0.0012, 124: 0.0001, 125: 0.0009, 126: 0.0003, 127: 0.0003, 128: 0.0002, 129: 0.0007, 130: 0.0004, 131: 0.0001, 132: 0.0003, 133: 0.0001, 134: 0.0007, 135: 0.0, 136: 0.0, 137: 0.0, 138: 0.0019, 139: 0.0001, 140: 0.0002, 141: 0.0, 142: 0.0002, 143: 0.0001})"
            ]
          },
          "execution_count": 72,
          "metadata": {},
          "output_type": "execute_result"
        }
      ],
      "source": [
        "model.featureImportances"
      ]
    },
    {
      "cell_type": "markdown",
      "metadata": {
        "id": "pPW-I118YrMV"
      },
      "source": [
        "### Logistic Regression"
      ]
    },
    {
      "cell_type": "code",
      "execution_count": null,
      "metadata": {
        "colab": {
          "base_uri": "https://localhost:8080/"
        },
        "id": "9lek3Kz7hjQg",
        "outputId": "e547deb4-4421-4340-92e7-993dd8841ede"
      },
      "outputs": [
        {
          "name": "stdout",
          "output_type": "stream",
          "text": [
            "Accuracy = 0.53194\n"
          ]
        }
      ],
      "source": [
        "from pyspark.ml.classification import LogisticRegression\n",
        "lr = LogisticRegression(maxIter=100, regParam=0.3, elasticNetParam=0.8, labelCol=\"readmitted\", \n",
        "                        featuresCol=\"features\")\n",
        "lrModel = lr.fit(training)\n",
        "\n",
        "preds_lr = lrModel.transform(testing)\n",
        "\n",
        "# Select (prediction, true label) and compute test error\n",
        "evaluator = MulticlassClassificationEvaluator(\n",
        "    labelCol=\"readmitted\", predictionCol=\"prediction\", metricName=\"accuracy\")\n",
        "\n",
        "accuracy = evaluator.evaluate(preds_lr)\n",
        "print(\"Accuracy = %g\" % accuracy)"
      ]
    },
    {
      "cell_type": "code",
      "execution_count": null,
      "metadata": {
        "colab": {
          "base_uri": "https://localhost:8080/",
          "height": 302
        },
        "id": "ijQzvY1lYnaA",
        "outputId": "567c24bb-603d-42db-b144-a0459c88ff50"
      },
      "outputs": [
        {
          "data": {
            "text/html": [
              "\n",
              "  <div id=\"df-4c60d4c2-4760-402c-a489-73e49a71a563\">\n",
              "    <div class=\"colab-df-container\">\n",
              "      <div>\n",
              "<style scoped>\n",
              "    .dataframe tbody tr th:only-of-type {\n",
              "        vertical-align: middle;\n",
              "    }\n",
              "\n",
              "    .dataframe tbody tr th {\n",
              "        vertical-align: top;\n",
              "    }\n",
              "\n",
              "    .dataframe thead th {\n",
              "        text-align: right;\n",
              "    }\n",
              "</style>\n",
              "<table border=\"1\" class=\"dataframe\">\n",
              "  <thead>\n",
              "    <tr style=\"text-align: right;\">\n",
              "      <th></th>\n",
              "      <th>0</th>\n",
              "      <th>1</th>\n",
              "      <th>2</th>\n",
              "      <th>3</th>\n",
              "      <th>4</th>\n",
              "    </tr>\n",
              "  </thead>\n",
              "  <tbody>\n",
              "    <tr>\n",
              "      <th>readmitted</th>\n",
              "      <td>0.0</td>\n",
              "      <td>0.0</td>\n",
              "      <td>0.0</td>\n",
              "      <td>0.0</td>\n",
              "      <td>0.0</td>\n",
              "    </tr>\n",
              "    <tr>\n",
              "      <th>features</th>\n",
              "      <td>(5.0, 48.0, 22.0, 1.0, 1.0, 537.0, 562.0, 280....</td>\n",
              "      <td>(9.0, 42.0, 28.0, 1.0, 1.0, 250.1, 560.0, 599....</td>\n",
              "      <td>(11.0, 40.0, 27.0, 1.0, 1.0, 562.0, 560.0, 568...</td>\n",
              "      <td>(11.0, 57.0, 28.0, 1.0, 1.0, 996.0, 427.0, 444...</td>\n",
              "      <td>(3.0, 52.0, 6.0, 2.0, 1.0, 250.0, 276.0, 276.0...</td>\n",
              "    </tr>\n",
              "    <tr>\n",
              "      <th>rawPrediction</th>\n",
              "      <td>[0.13606320474366776, -0.13606320474366776]</td>\n",
              "      <td>[0.13606320474366776, -0.13606320474366776]</td>\n",
              "      <td>[0.13606320474366776, -0.13606320474366776]</td>\n",
              "      <td>[0.13606320474366776, -0.13606320474366776]</td>\n",
              "      <td>[0.13606320474366776, -0.13606320474366776]</td>\n",
              "    </tr>\n",
              "    <tr>\n",
              "      <th>probability</th>\n",
              "      <td>[0.5339634197266223, 0.4660365802733777]</td>\n",
              "      <td>[0.5339634197266223, 0.4660365802733777]</td>\n",
              "      <td>[0.5339634197266223, 0.4660365802733777]</td>\n",
              "      <td>[0.5339634197266223, 0.4660365802733777]</td>\n",
              "      <td>[0.5339634197266223, 0.4660365802733777]</td>\n",
              "    </tr>\n",
              "    <tr>\n",
              "      <th>prediction</th>\n",
              "      <td>0.0</td>\n",
              "      <td>0.0</td>\n",
              "      <td>0.0</td>\n",
              "      <td>0.0</td>\n",
              "      <td>0.0</td>\n",
              "    </tr>\n",
              "  </tbody>\n",
              "</table>\n",
              "</div>\n",
              "      <button class=\"colab-df-convert\" onclick=\"convertToInteractive('df-4c60d4c2-4760-402c-a489-73e49a71a563')\"\n",
              "              title=\"Convert this dataframe to an interactive table.\"\n",
              "              style=\"display:none;\">\n",
              "        \n",
              "  <svg xmlns=\"http://www.w3.org/2000/svg\" height=\"24px\"viewBox=\"0 0 24 24\"\n",
              "       width=\"24px\">\n",
              "    <path d=\"M0 0h24v24H0V0z\" fill=\"none\"/>\n",
              "    <path d=\"M18.56 5.44l.94 2.06.94-2.06 2.06-.94-2.06-.94-.94-2.06-.94 2.06-2.06.94zm-11 1L8.5 8.5l.94-2.06 2.06-.94-2.06-.94L8.5 2.5l-.94 2.06-2.06.94zm10 10l.94 2.06.94-2.06 2.06-.94-2.06-.94-.94-2.06-.94 2.06-2.06.94z\"/><path d=\"M17.41 7.96l-1.37-1.37c-.4-.4-.92-.59-1.43-.59-.52 0-1.04.2-1.43.59L10.3 9.45l-7.72 7.72c-.78.78-.78 2.05 0 2.83L4 21.41c.39.39.9.59 1.41.59.51 0 1.02-.2 1.41-.59l7.78-7.78 2.81-2.81c.8-.78.8-2.07 0-2.86zM5.41 20L4 18.59l7.72-7.72 1.47 1.35L5.41 20z\"/>\n",
              "  </svg>\n",
              "      </button>\n",
              "      \n",
              "  <style>\n",
              "    .colab-df-container {\n",
              "      display:flex;\n",
              "      flex-wrap:wrap;\n",
              "      gap: 12px;\n",
              "    }\n",
              "\n",
              "    .colab-df-convert {\n",
              "      background-color: #E8F0FE;\n",
              "      border: none;\n",
              "      border-radius: 50%;\n",
              "      cursor: pointer;\n",
              "      display: none;\n",
              "      fill: #1967D2;\n",
              "      height: 32px;\n",
              "      padding: 0 0 0 0;\n",
              "      width: 32px;\n",
              "    }\n",
              "\n",
              "    .colab-df-convert:hover {\n",
              "      background-color: #E2EBFA;\n",
              "      box-shadow: 0px 1px 2px rgba(60, 64, 67, 0.3), 0px 1px 3px 1px rgba(60, 64, 67, 0.15);\n",
              "      fill: #174EA6;\n",
              "    }\n",
              "\n",
              "    [theme=dark] .colab-df-convert {\n",
              "      background-color: #3B4455;\n",
              "      fill: #D2E3FC;\n",
              "    }\n",
              "\n",
              "    [theme=dark] .colab-df-convert:hover {\n",
              "      background-color: #434B5C;\n",
              "      box-shadow: 0px 1px 3px 1px rgba(0, 0, 0, 0.15);\n",
              "      filter: drop-shadow(0px 1px 2px rgba(0, 0, 0, 0.3));\n",
              "      fill: #FFFFFF;\n",
              "    }\n",
              "  </style>\n",
              "\n",
              "      <script>\n",
              "        const buttonEl =\n",
              "          document.querySelector('#df-4c60d4c2-4760-402c-a489-73e49a71a563 button.colab-df-convert');\n",
              "        buttonEl.style.display =\n",
              "          google.colab.kernel.accessAllowed ? 'block' : 'none';\n",
              "\n",
              "        async function convertToInteractive(key) {\n",
              "          const element = document.querySelector('#df-4c60d4c2-4760-402c-a489-73e49a71a563');\n",
              "          const dataTable =\n",
              "            await google.colab.kernel.invokeFunction('convertToInteractive',\n",
              "                                                     [key], {});\n",
              "          if (!dataTable) return;\n",
              "\n",
              "          const docLinkHtml = 'Like what you see? Visit the ' +\n",
              "            '<a target=\"_blank\" href=https://colab.research.google.com/notebooks/data_table.ipynb>data table notebook</a>'\n",
              "            + ' to learn more about interactive tables.';\n",
              "          element.innerHTML = '';\n",
              "          dataTable['output_type'] = 'display_data';\n",
              "          await google.colab.output.renderOutput(dataTable, element);\n",
              "          const docLink = document.createElement('div');\n",
              "          docLink.innerHTML = docLinkHtml;\n",
              "          element.appendChild(docLink);\n",
              "        }\n",
              "      </script>\n",
              "    </div>\n",
              "  </div>\n",
              "  "
            ],
            "text/plain": [
              "                                                               0  \\\n",
              "readmitted                                                   0.0   \n",
              "features       (5.0, 48.0, 22.0, 1.0, 1.0, 537.0, 562.0, 280....   \n",
              "rawPrediction        [0.13606320474366776, -0.13606320474366776]   \n",
              "probability             [0.5339634197266223, 0.4660365802733777]   \n",
              "prediction                                                   0.0   \n",
              "\n",
              "                                                               1  \\\n",
              "readmitted                                                   0.0   \n",
              "features       (9.0, 42.0, 28.0, 1.0, 1.0, 250.1, 560.0, 599....   \n",
              "rawPrediction        [0.13606320474366776, -0.13606320474366776]   \n",
              "probability             [0.5339634197266223, 0.4660365802733777]   \n",
              "prediction                                                   0.0   \n",
              "\n",
              "                                                               2  \\\n",
              "readmitted                                                   0.0   \n",
              "features       (11.0, 40.0, 27.0, 1.0, 1.0, 562.0, 560.0, 568...   \n",
              "rawPrediction        [0.13606320474366776, -0.13606320474366776]   \n",
              "probability             [0.5339634197266223, 0.4660365802733777]   \n",
              "prediction                                                   0.0   \n",
              "\n",
              "                                                               3  \\\n",
              "readmitted                                                   0.0   \n",
              "features       (11.0, 57.0, 28.0, 1.0, 1.0, 996.0, 427.0, 444...   \n",
              "rawPrediction        [0.13606320474366776, -0.13606320474366776]   \n",
              "probability             [0.5339634197266223, 0.4660365802733777]   \n",
              "prediction                                                   0.0   \n",
              "\n",
              "                                                               4  \n",
              "readmitted                                                   0.0  \n",
              "features       (3.0, 52.0, 6.0, 2.0, 1.0, 250.0, 276.0, 276.0...  \n",
              "rawPrediction        [0.13606320474366776, -0.13606320474366776]  \n",
              "probability             [0.5339634197266223, 0.4660365802733777]  \n",
              "prediction                                                   0.0  "
            ]
          },
          "execution_count": 74,
          "metadata": {},
          "output_type": "execute_result"
        }
      ],
      "source": [
        "pd.DataFrame(preds_lr.take(5), columns=preds_lr.columns).transpose()"
      ]
    },
    {
      "cell_type": "markdown",
      "metadata": {
        "id": "8BoKv9eq30Xj"
      },
      "source": [
        "### ROC"
      ]
    },
    {
      "cell_type": "code",
      "execution_count": null,
      "metadata": {
        "id": "cJmDpsPh339z"
      },
      "outputs": [],
      "source": [
        "# trainingSummary = lrModel.summary\n",
        "# roc = trainingSummary.roc.toPandas()\n",
        "# plt.plot(roc['FPR'],roc['TPR'])\n",
        "# plt.ylabel('False Positive Rate')\n",
        "# plt.xlabel('True Positive Rate')\n",
        "# plt.title('ROC Curve')\n",
        "# plt.show()\n",
        "# print('Training set areaUnderROC: ' + str(trainingSummary.areaUnderROC))"
      ]
    },
    {
      "cell_type": "markdown",
      "metadata": {
        "id": "M0_3PSaww7Ck"
      },
      "source": [
        "### Gradient Boosting Model"
      ]
    },
    {
      "cell_type": "code",
      "execution_count": null,
      "metadata": {
        "colab": {
          "base_uri": "https://localhost:8080/"
        },
        "id": "DfJniGWUnGro",
        "outputId": "0cbd5b14-b88a-447d-ae83-3202ba8c9565"
      },
      "outputs": [
        {
          "name": "stdout",
          "output_type": "stream",
          "text": [
            "Accuracy = 80\n"
          ]
        }
      ],
      "source": [
        "from pyspark.ml.classification import GBTClassifier\n",
        "gbt = GBTClassifier(maxIter=100, labelCol=\"readmitted\",featuresCol=\"features\")\n",
        "gbtModel = gbt.fit(training)\n",
        "\n",
        "preds_gb = gbtModel.transform(testing)\n",
        "\n",
        "# Select (prediction, true label) and compute test error\n",
        "evaluator = MulticlassClassificationEvaluator(\n",
        "    labelCol=\"readmitted\", predictionCol=\"prediction\", metricName=\"accuracy\")\n",
        "\n",
        "accuracy = evaluator.evaluate(preds_gb)\n",
        "print(\"Accuracy = %g\" % acuracy)"
      ]
    },
    {
      "cell_type": "code",
      "execution_count": null,
      "metadata": {
        "colab": {
          "base_uri": "https://localhost:8080/",
          "height": 302
        },
        "id": "htXl-jZsYfBN",
        "outputId": "3f4c4748-99e9-4ca0-e06e-3cf55792bbc5"
      },
      "outputs": [
        {
          "data": {
            "text/html": [
              "\n",
              "  <div id=\"df-2680982a-c8f4-4c8d-86d1-9d6aae4bb34a\">\n",
              "    <div class=\"colab-df-container\">\n",
              "      <div>\n",
              "<style scoped>\n",
              "    .dataframe tbody tr th:only-of-type {\n",
              "        vertical-align: middle;\n",
              "    }\n",
              "\n",
              "    .dataframe tbody tr th {\n",
              "        vertical-align: top;\n",
              "    }\n",
              "\n",
              "    .dataframe thead th {\n",
              "        text-align: right;\n",
              "    }\n",
              "</style>\n",
              "<table border=\"1\" class=\"dataframe\">\n",
              "  <thead>\n",
              "    <tr style=\"text-align: right;\">\n",
              "      <th></th>\n",
              "      <th>0</th>\n",
              "      <th>1</th>\n",
              "      <th>2</th>\n",
              "      <th>3</th>\n",
              "      <th>4</th>\n",
              "    </tr>\n",
              "  </thead>\n",
              "  <tbody>\n",
              "    <tr>\n",
              "      <th>readmitted</th>\n",
              "      <td>0.0</td>\n",
              "      <td>0.0</td>\n",
              "      <td>0.0</td>\n",
              "      <td>0.0</td>\n",
              "      <td>0.0</td>\n",
              "    </tr>\n",
              "    <tr>\n",
              "      <th>features</th>\n",
              "      <td>(5.0, 48.0, 22.0, 1.0, 1.0, 537.0, 562.0, 280....</td>\n",
              "      <td>(9.0, 42.0, 28.0, 1.0, 1.0, 250.1, 560.0, 599....</td>\n",
              "      <td>(11.0, 40.0, 27.0, 1.0, 1.0, 562.0, 560.0, 568...</td>\n",
              "      <td>(11.0, 57.0, 28.0, 1.0, 1.0, 996.0, 427.0, 444...</td>\n",
              "      <td>(3.0, 52.0, 6.0, 2.0, 1.0, 250.0, 276.0, 276.0...</td>\n",
              "    </tr>\n",
              "    <tr>\n",
              "      <th>rawPrediction</th>\n",
              "      <td>[-0.2406815553072669, 0.2406815553072669]</td>\n",
              "      <td>[-0.18953385537680617, 0.18953385537680617]</td>\n",
              "      <td>[-0.1918940051707635, 0.1918940051707635]</td>\n",
              "      <td>[-0.31502066319478383, 0.31502066319478383]</td>\n",
              "      <td>[-0.1651610392781369, 0.1651610392781369]</td>\n",
              "    </tr>\n",
              "    <tr>\n",
              "      <th>probability</th>\n",
              "      <td>[0.38193029821291785, 0.6180697017870822]</td>\n",
              "      <td>[0.40635177356015967, 0.5936482264398404]</td>\n",
              "      <td>[0.4052136008847713, 0.5947863991152287]</td>\n",
              "      <td>[0.34750116723294444, 0.6524988327670556]</td>\n",
              "      <td>[0.41816225854827627, 0.5818377414517237]</td>\n",
              "    </tr>\n",
              "    <tr>\n",
              "      <th>prediction</th>\n",
              "      <td>1.0</td>\n",
              "      <td>1.0</td>\n",
              "      <td>1.0</td>\n",
              "      <td>1.0</td>\n",
              "      <td>1.0</td>\n",
              "    </tr>\n",
              "  </tbody>\n",
              "</table>\n",
              "</div>\n",
              "      <button class=\"colab-df-convert\" onclick=\"convertToInteractive('df-2680982a-c8f4-4c8d-86d1-9d6aae4bb34a')\"\n",
              "              title=\"Convert this dataframe to an interactive table.\"\n",
              "              style=\"display:none;\">\n",
              "        \n",
              "  <svg xmlns=\"http://www.w3.org/2000/svg\" height=\"24px\"viewBox=\"0 0 24 24\"\n",
              "       width=\"24px\">\n",
              "    <path d=\"M0 0h24v24H0V0z\" fill=\"none\"/>\n",
              "    <path d=\"M18.56 5.44l.94 2.06.94-2.06 2.06-.94-2.06-.94-.94-2.06-.94 2.06-2.06.94zm-11 1L8.5 8.5l.94-2.06 2.06-.94-2.06-.94L8.5 2.5l-.94 2.06-2.06.94zm10 10l.94 2.06.94-2.06 2.06-.94-2.06-.94-.94-2.06-.94 2.06-2.06.94z\"/><path d=\"M17.41 7.96l-1.37-1.37c-.4-.4-.92-.59-1.43-.59-.52 0-1.04.2-1.43.59L10.3 9.45l-7.72 7.72c-.78.78-.78 2.05 0 2.83L4 21.41c.39.39.9.59 1.41.59.51 0 1.02-.2 1.41-.59l7.78-7.78 2.81-2.81c.8-.78.8-2.07 0-2.86zM5.41 20L4 18.59l7.72-7.72 1.47 1.35L5.41 20z\"/>\n",
              "  </svg>\n",
              "      </button>\n",
              "      \n",
              "  <style>\n",
              "    .colab-df-container {\n",
              "      display:flex;\n",
              "      flex-wrap:wrap;\n",
              "      gap: 12px;\n",
              "    }\n",
              "\n",
              "    .colab-df-convert {\n",
              "      background-color: #E8F0FE;\n",
              "      border: none;\n",
              "      border-radius: 50%;\n",
              "      cursor: pointer;\n",
              "      display: none;\n",
              "      fill: #1967D2;\n",
              "      height: 32px;\n",
              "      padding: 0 0 0 0;\n",
              "      width: 32px;\n",
              "    }\n",
              "\n",
              "    .colab-df-convert:hover {\n",
              "      background-color: #E2EBFA;\n",
              "      box-shadow: 0px 1px 2px rgba(60, 64, 67, 0.3), 0px 1px 3px 1px rgba(60, 64, 67, 0.15);\n",
              "      fill: #174EA6;\n",
              "    }\n",
              "\n",
              "    [theme=dark] .colab-df-convert {\n",
              "      background-color: #3B4455;\n",
              "      fill: #D2E3FC;\n",
              "    }\n",
              "\n",
              "    [theme=dark] .colab-df-convert:hover {\n",
              "      background-color: #434B5C;\n",
              "      box-shadow: 0px 1px 3px 1px rgba(0, 0, 0, 0.15);\n",
              "      filter: drop-shadow(0px 1px 2px rgba(0, 0, 0, 0.3));\n",
              "      fill: #FFFFFF;\n",
              "    }\n",
              "  </style>\n",
              "\n",
              "      <script>\n",
              "        const buttonEl =\n",
              "          document.querySelector('#df-2680982a-c8f4-4c8d-86d1-9d6aae4bb34a button.colab-df-convert');\n",
              "        buttonEl.style.display =\n",
              "          google.colab.kernel.accessAllowed ? 'block' : 'none';\n",
              "\n",
              "        async function convertToInteractive(key) {\n",
              "          const element = document.querySelector('#df-2680982a-c8f4-4c8d-86d1-9d6aae4bb34a');\n",
              "          const dataTable =\n",
              "            await google.colab.kernel.invokeFunction('convertToInteractive',\n",
              "                                                     [key], {});\n",
              "          if (!dataTable) return;\n",
              "\n",
              "          const docLinkHtml = 'Like what you see? Visit the ' +\n",
              "            '<a target=\"_blank\" href=https://colab.research.google.com/notebooks/data_table.ipynb>data table notebook</a>'\n",
              "            + ' to learn more about interactive tables.';\n",
              "          element.innerHTML = '';\n",
              "          dataTable['output_type'] = 'display_data';\n",
              "          await google.colab.output.renderOutput(dataTable, element);\n",
              "          const docLink = document.createElement('div');\n",
              "          docLink.innerHTML = docLinkHtml;\n",
              "          element.appendChild(docLink);\n",
              "        }\n",
              "      </script>\n",
              "    </div>\n",
              "  </div>\n",
              "  "
            ],
            "text/plain": [
              "                                                               0  \\\n",
              "readmitted                                                   0.0   \n",
              "features       (5.0, 48.0, 22.0, 1.0, 1.0, 537.0, 562.0, 280....   \n",
              "rawPrediction          [-0.2406815553072669, 0.2406815553072669]   \n",
              "probability            [0.38193029821291785, 0.6180697017870822]   \n",
              "prediction                                                   1.0   \n",
              "\n",
              "                                                               1  \\\n",
              "readmitted                                                   0.0   \n",
              "features       (9.0, 42.0, 28.0, 1.0, 1.0, 250.1, 560.0, 599....   \n",
              "rawPrediction        [-0.18953385537680617, 0.18953385537680617]   \n",
              "probability            [0.40635177356015967, 0.5936482264398404]   \n",
              "prediction                                                   1.0   \n",
              "\n",
              "                                                               2  \\\n",
              "readmitted                                                   0.0   \n",
              "features       (11.0, 40.0, 27.0, 1.0, 1.0, 562.0, 560.0, 568...   \n",
              "rawPrediction          [-0.1918940051707635, 0.1918940051707635]   \n",
              "probability             [0.4052136008847713, 0.5947863991152287]   \n",
              "prediction                                                   1.0   \n",
              "\n",
              "                                                               3  \\\n",
              "readmitted                                                   0.0   \n",
              "features       (11.0, 57.0, 28.0, 1.0, 1.0, 996.0, 427.0, 444...   \n",
              "rawPrediction        [-0.31502066319478383, 0.31502066319478383]   \n",
              "probability            [0.34750116723294444, 0.6524988327670556]   \n",
              "prediction                                                   1.0   \n",
              "\n",
              "                                                               4  \n",
              "readmitted                                                   0.0  \n",
              "features       (3.0, 52.0, 6.0, 2.0, 1.0, 250.0, 276.0, 276.0...  \n",
              "rawPrediction          [-0.1651610392781369, 0.1651610392781369]  \n",
              "probability            [0.41816225854827627, 0.5818377414517237]  \n",
              "prediction                                                   1.0  "
            ]
          },
          "execution_count": 77,
          "metadata": {},
          "output_type": "execute_result"
        }
      ],
      "source": [
        "pd.DataFrame(preds_gb.take(5), columns=preds_gb.columns).transpose()"
      ]
    },
    {
      "cell_type": "markdown",
      "metadata": {
        "id": "rVyuKvqkbhRv"
      },
      "source": [
        "### FEATURE IMPORTANCES"
      ]
    },
    {
      "cell_type": "code",
      "execution_count": null,
      "metadata": {
        "colab": {
          "base_uri": "https://localhost:8080/"
        },
        "id": "yzai0P5aZ7y2",
        "outputId": "a42a1188-3301-4a81-cd43-6a3e6e1bfbac"
      },
      "outputs": [
        {
          "data": {
            "text/plain": [
              "SparseVector(144, {0: 0.0288, 1: 0.0477, 2: 0.05, 3: 0.0307, 4: 0.0963, 5: 0.0817, 6: 0.0656, 7: 0.0507, 8: 0.0391, 9: 0.0059, 10: 0.0022, 11: 0.0003, 12: 0.0147, 13: 0.0062, 14: 0.006, 15: 0.0221, 16: 0.0136, 17: 0.0021, 18: 0.0043, 20: 0.0034, 21: 0.0003, 23: 0.0001, 27: 0.0005, 28: 0.0016, 29: 0.0006, 30: 0.0023, 31: 0.0003, 32: 0.0004, 33: 0.015, 34: 0.009, 35: 0.0152, 36: 0.0073, 37: 0.0028, 38: 0.0109, 39: 0.0565, 40: 0.0078, 41: 0.0004, 42: 0.0015, 43: 0.0005, 44: 0.0042, 45: 0.0325, 46: 0.0263, 47: 0.0018, 48: 0.0012, 49: 0.0006, 54: 0.0007, 56: 0.0001, 58: 0.0009, 59: 0.0014, 60: 0.0011, 61: 0.0043, 62: 0.0027, 63: 0.0002, 64: 0.006, 66: 0.0087, 67: 0.0021, 68: 0.004, 69: 0.0025, 70: 0.0002, 71: 0.0003, 72: 0.0003, 73: 0.0006, 74: 0.0011, 76: 0.0001, 79: 0.0006, 81: 0.0008, 82: 0.0001, 83: 0.0005, 85: 0.0004, 87: 0.0002, 94: 0.0001, 104: 0.0098, 105: 0.0035, 106: 0.0021, 107: 0.0024, 108: 0.0293, 109: 0.0041, 110: 0.0075, 111: 0.0087, 112: 0.0082, 113: 0.0025, 115: 0.0014, 116: 0.0045, 117: 0.0014, 118: 0.005, 119: 0.0025, 120: 0.0008, 121: 0.0003, 122: 0.0016, 123: 0.0091, 124: 0.0031, 125: 0.0094, 126: 0.0063, 127: 0.0052, 128: 0.0078, 129: 0.0089, 130: 0.0027, 131: 0.0003, 132: 0.0018, 133: 0.0085, 134: 0.0037, 135: 0.0044, 138: 0.0111, 139: 0.0014, 140: 0.0039, 141: 0.0024, 142: 0.002, 143: 0.0014})"
            ]
          },
          "execution_count": 78,
          "metadata": {},
          "output_type": "execute_result"
        }
      ],
      "source": [
        "gbtModel.featureImportances"
      ]
    },
    {
      "cell_type": "markdown",
      "metadata": {
        "id": "Nr_1hn1L7ioR"
      },
      "source": [
        "### Scaling Dataset"
      ]
    },
    {
      "cell_type": "code",
      "execution_count": null,
      "metadata": {
        "id": "oelIB5Kpd47E"
      },
      "outputs": [],
      "source": [
        "from pyspark.ml.feature import StandardScaler\n",
        "scaler = StandardScaler(inputCol=\"features\", outputCol=\"scaled_features\")\n",
        "scaler_model = scaler.fit(output)\n",
        "scaled_data = scaler_model.transform(output)\n"
      ]
    },
    {
      "cell_type": "code",
      "execution_count": null,
      "metadata": {
        "id": "v9Dyv7-Ysf4w"
      },
      "outputs": [],
      "source": [
        "pd.DataFrame(scaled_data.take(5), columns=scaled_data.columns).transpose()"
      ]
    },
    {
      "cell_type": "code",
      "execution_count": null,
      "metadata": {
        "id": "49ja_xr2rS6m"
      },
      "outputs": [],
      "source": [
        "# scaled_data = scaled_data.selectExpr( 'readmitted as readmitted',\"scaled_features as features\")\n",
        "\n",
        "output = scaled_data\n",
        "output"
      ]
    },
    {
      "cell_type": "markdown",
      "metadata": {
        "id": "EdnaGtVo7o7c"
      },
      "source": [
        "### Principal Component Analysis"
      ]
    },
    {
      "cell_type": "code",
      "execution_count": null,
      "metadata": {
        "id": "nuTHBQEDbt2-"
      },
      "outputs": [],
      "source": [
        "from pyspark.ml.feature import PCA\n",
        "pca = PCA(k=3, inputCol='scaled_features', outputCol='features_pca')\n",
        "pca_model = pca.fit(output)\n"
      ]
    },
    {
      "cell_type": "code",
      "execution_count": null,
      "metadata": {
        "id": "HsJ7xAfB2rxe"
      },
      "outputs": [],
      "source": [
        "# pca_data = pca_data.selectExpr( 'readmitted as readmitted',\"pcaFeature as features\")\n",
        "pca_data = pca_model.transform(output).select('readmitted','features_pca')\n",
        "pd.DataFrame(pca_data.take(5), columns=pca_data.columns).transpose()"
      ]
    },
    {
      "cell_type": "code",
      "execution_count": null,
      "metadata": {
        "id": "BHgzMIlEnkHi"
      },
      "outputs": [],
      "source": [
        "pca_data = pca_data.selectExpr( 'readmitted as readmitted',\"features_pca as features\")\n"
      ]
    },
    {
      "cell_type": "code",
      "execution_count": null,
      "metadata": {
        "id": "peBpghXW4eRn"
      },
      "outputs": [],
      "source": [
        "pd.DataFrame(pca_data.take(5), columns=pca_data.columns).transpose()"
      ]
    },
    {
      "cell_type": "markdown",
      "metadata": {
        "id": "9rrRbhS77wHX"
      },
      "source": [
        "### Random Forest with PCA"
      ]
    },
    {
      "cell_type": "code",
      "execution_count": null,
      "metadata": {
        "id": "-0xnLs27geto"
      },
      "outputs": [],
      "source": [
        "training, testing = pca_data.randomSplit([0.8,0.2])\n",
        "rf = RandomForestClassifier(numTrees=100, maxDepth=6, labelCol=\"readmitted\", seed=42,\n",
        "                           featureSubsetStrategy='onethird')\n",
        "model = rf.fit(training)\n",
        "\n",
        "predictions = model.transform(testing)\n",
        "\n",
        "# Select (prediction, true label) and compute test error\n",
        "evaluator = MulticlassClassificationEvaluator(\n",
        "    labelCol=\"readmitted\", predictionCol=\"prediction\", metricName=\"accuracy\")\n",
        "\n",
        "accuracy = evaluator.evaluate(predictions)\n",
        "print(\"Accuracy = %g\" % accuracy)"
      ]
    },
    {
      "cell_type": "markdown",
      "metadata": {
        "id": "xu0P9gt77yBK"
      },
      "source": [
        "### Logictic Regression with PCA"
      ]
    },
    {
      "cell_type": "code",
      "execution_count": null,
      "metadata": {
        "id": "X5PLGevSgeq9"
      },
      "outputs": [],
      "source": [
        "from pyspark.ml.classification import LogisticRegression\n",
        "lr = LogisticRegression(maxIter=100, regParam=0.3, elasticNetParam=0.8, labelCol=\"readmitted\", \n",
        "                        featuresCol=\"features\")\n",
        "lrModel = lr.fit(training)\n",
        "\n",
        "preds_lr = lrModel.transform(testing)\n",
        "\n",
        "# Select (prediction, true label) and compute test error\n",
        "evaluator = MulticlassClassificationEvaluator(\n",
        "    labelCol=\"readmitted\", predictionCol=\"prediction\", metricName=\"accuracy\")\n",
        "\n",
        "accuracy = evaluator.evaluate(preds_lr)\n",
        "print(\"Accuracy = %g\" % accuracy)"
      ]
    },
    {
      "cell_type": "markdown",
      "metadata": {
        "id": "CKWutUM8755P"
      },
      "source": [
        "### GBM with PCA"
      ]
    },
    {
      "cell_type": "code",
      "execution_count": null,
      "metadata": {
        "id": "wPP2mdLqgeop"
      },
      "outputs": [],
      "source": [
        "from pyspark.ml.classification import GBTClassifier\n",
        "gbt = GBTClassifier(maxIter=100, labelCol=\"readmitted\",featuresCol=\"features\")\n",
        "gbtModel = gbt.fit(training)\n",
        "\n",
        "preds_gb = gbtModel.transform(testing)\n",
        "\n",
        "# Select (prediction, true label) and compute test error\n",
        "evaluator = MulticlassClassificationEvaluator(\n",
        "    labelCol=\"readmitted\", predictionCol=\"prediction\", metricName=\"accuracy\")\n",
        "\n",
        "accuracy = evaluator.evaluate(preds_gb)\n",
        "print(\"Accuracy = %g\" % accuracy)"
      ]
    },
    {
      "cell_type": "code",
      "execution_count": null,
      "metadata": {
        "id": "CGGE7Wym3AAx"
      },
      "outputs": [],
      "source": [
        "import pandas as pd \n",
        "  \n",
        "# initialise data of lists. \n",
        "data = {'With PCA':[0.566648, 0.537008, 0.56759], \n",
        "        'Without PCA':[0.627887, 0.529323, 0.646053]} \n",
        "  \n",
        "# Creates pandas DataFrame. \n",
        "data = pd.DataFrame(data, index =['Random Forest', \n",
        "                                'Logistic Regression', \n",
        "                                'Gradient Boosting']) \n",
        "  \n",
        "# print the data \n",
        "data "
      ]
    },
    {
      "cell_type": "markdown",
      "metadata": {
        "id": "4ChsjWjntHZX"
      },
      "source": [
        "### Lets See the Confusion Matrix of Best Model"
      ]
    },
    {
      "cell_type": "code",
      "execution_count": null,
      "metadata": {
        "id": "RwsNSBJrtMya"
      },
      "outputs": [],
      "source": [
        "from sklearn.metrics import confusion_matrix\n",
        "\n",
        "y_true_gb = preds_gb.select(\"readmitted\").toPandas()\n",
        "y_pred_gb = preds_gb.select(\"prediction\").toPandas()\n",
        "c_m_gb = confusion_matrix(y_true_gb, y_pred_gb)"
      ]
    },
    {
      "cell_type": "code",
      "execution_count": null,
      "metadata": {
        "id": "CYQJ1mVfuOAi"
      },
      "outputs": [],
      "source": [
        "\n",
        "\n",
        "plt.subplot(3,3,6)\n",
        "plt.title(\"Gradient-Boosted\", fontsize = 16)\n",
        "sns.heatmap(c_m_gb,annot=True,cmap=\"Blues\",fmt=\"d\",cbar=False)\n",
        "classes = ['No readmitted', 'readmitted']\n",
        "tick_marks = np.arange(len(classes))\n",
        "plt.xticks(tick_marks, classes, horizontalalignment='left')\n",
        "plt.yticks(tick_marks, classes)"
      ]
    },
    {
      "cell_type": "markdown",
      "metadata": {
        "id": "FYi1NEY_DC2h"
      },
      "source": [
        "# Conclusion"
      ]
    },
    {
      "cell_type": "markdown",
      "metadata": {
        "id": "vV3OpeDBF10r"
      },
      "source": [
        "As the Data is ***Sparse*** and Even due to the less correlation its been Difficult to map the features.\n",
        "As we can see Even Applying **Feature Reduction** doesn't boost the Accuracy\n",
        "\n",
        "We can Go Ahead with the **Gradient Boosting Model** as it also provides learning on weak Learners and showed better accuracy than other models"
      ]
    },
    {
      "cell_type": "markdown",
      "metadata": {
        "id": "DkobTzVoGYX0"
      },
      "source": [
        "### According to GBM and Random Forest \n",
        "For the given data  Below features are classified and **Important Features**\n",
        "\n",
        "'time_in_hospital',\n",
        " 'num_lab_procedures',\n",
        " 'num_medications',\n",
        " 'number_emergency',\n",
        " 'number_inpatient',\n",
        " 'diag_1',\n",
        " 'diag_2',\n",
        " 'diag_3',\n",
        " 'number_diagnoses',\n",
        " 'metformin_index_vector',"
      ]
    },
    {
      "cell_type": "code",
      "execution_count": null,
      "metadata": {
        "id": "522OQ8l1GN6_"
      },
      "outputs": [],
      "source": []
    }
  ],
  "metadata": {
    "colab": {
      "provenance": []
    },
    "kernelspec": {
      "display_name": "Python 3 (ipykernel)",
      "language": "python",
      "name": "python3"
    },
    "language_info": {
      "codemirror_mode": {
        "name": "ipython",
        "version": 3
      },
      "file_extension": ".py",
      "mimetype": "text/x-python",
      "name": "python",
      "nbconvert_exporter": "python",
      "pygments_lexer": "ipython3",
      "version": "3.8.13"
    }
  },
  "nbformat": 4,
  "nbformat_minor": 0
}